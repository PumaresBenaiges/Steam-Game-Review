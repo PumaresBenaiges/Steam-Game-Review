{
 "cells": [
  {
   "cell_type": "code",
   "execution_count": null,
   "metadata": {},
   "outputs": [],
   "source": [
    "reset()"
   ]
  },
  {
   "cell_type": "code",
   "execution_count": 1,
   "metadata": {},
   "outputs": [],
   "source": [
    "from sklearn.datasets import make_regression\n",
    "import numpy as np\n",
    "import pandas as pd\n",
    "from matplotlib import pyplot as plt\n",
    "import os\n",
    "import seaborn as sns\n",
    "import math\n",
    "%matplotlib widget\n",
    "import warnings\n",
    "warnings.filterwarnings('ignore')"
   ]
  },
  {
   "cell_type": "markdown",
   "metadata": {},
   "source": [
    "### LOAD DATASET"
   ]
  },
  {
   "cell_type": "code",
   "execution_count": 2,
   "metadata": {},
   "outputs": [],
   "source": [
    "def load_dataset(path):\n",
    "    d_train = pd.read_csv(path, header=0, delimiter=',')\n",
    "    return d_train\n",
    "\n",
    "os.getcwd()\n",
    "path = 'C:/Users/julia/Documents/JULIA/UNI/3r/kaggle/train_gr'\n",
    "os.chdir(path)\n",
    "os.getcwd()\n",
    "d_train = load_dataset('train.csv')\n",
    "d_overview = load_dataset('game_overview.csv')\n",
    "\n",
    "os.getcwd()\n",
    "path = 'C:/Users/julia/Documents/JULIA/UNI/3r/kaggle/test_gr'\n",
    "os.chdir(path)\n",
    "os.getcwd()\n",
    "d_test = load_dataset('test.csv')"
   ]
  },
  {
   "cell_type": "code",
   "execution_count": 3,
   "metadata": {
    "scrolled": true
   },
   "outputs": [
    {
     "name": "stdout",
     "output_type": "stream",
     "text": [
      "Dimensionalitat de la BBDD train: (17494, 5)\n",
      "Dimensionalitat de la BBDD test: (8045, 4)\n",
      "Nombre de valors no existents:\n",
      "review_id            0\n",
      "title                0\n",
      "year               178\n",
      "user_review          0\n",
      "user_suggestion      0\n",
      "dtype: int64\n",
      "review_id       0\n",
      "title           0\n",
      "year           67\n",
      "user_review     0\n",
      "dtype: int64\n"
     ]
    }
   ],
   "source": [
    "print(\"Dimensionalitat de la BBDD train:\", d_train.shape)\n",
    "print(\"Dimensionalitat de la BBDD test:\", d_test.shape)\n",
    "print(\"Nombre de valors no existents:\")\n",
    "print(d_train.isnull().sum())\n",
    "print(d_test.isnull().sum())\n",
    "#eliminar id i year\n",
    "#predir user_suggestion from user_review"
   ]
  },
  {
   "cell_type": "markdown",
   "metadata": {},
   "source": [
    "##### Observem que tenim valors inexistents a la variable de l'any."
   ]
  },
  {
   "cell_type": "markdown",
   "metadata": {},
   "source": [
    "##### La variable review_id l'eliminarem perquè només és un índex i no ens aporta informació.\n",
    "##### Crearem una nova variable que ens diu quantes lletres té cada review.\n",
    "##### Crearem una nova variable que contingui la informació de title, year i review de forma concatenada. (ens serà útil per quan fem el train amb diferents models)."
   ]
  },
  {
   "cell_type": "code",
   "execution_count": 4,
   "metadata": {},
   "outputs": [],
   "source": [
    "d_train.insert(3, 'words', d_train[\"user_review\"].apply(lambda s: len(s.split())))\n",
    "d_train = d_train.drop(['review_id'], axis=1)\n",
    "d_train['title'] = [s.replace(\" \", \"\") for s in d_train['title']]\n",
    "d_train.insert(2, 'year_s', [str(s) for s in d_train['year']])\n",
    "d_train.insert(0, 'title_review', d_train['title'] + \" \" + d_train['year_s'] + \" \" + d_train[\"user_review\"])"
   ]
  },
  {
   "cell_type": "code",
   "execution_count": 5,
   "metadata": {},
   "outputs": [
    {
     "data": {
      "text/plain": [
       "Index(['title_review', 'title', 'year', 'year_s', 'words', 'user_review',\n",
       "       'user_suggestion'],\n",
       "      dtype='object')"
      ]
     },
     "execution_count": 5,
     "metadata": {},
     "output_type": "execute_result"
    }
   ],
   "source": [
    "d_train.columns"
   ]
  },
  {
   "cell_type": "code",
   "execution_count": 6,
   "metadata": {},
   "outputs": [
    {
     "data": {
      "text/html": [
       "<div>\n",
       "<style scoped>\n",
       "    .dataframe tbody tr th:only-of-type {\n",
       "        vertical-align: middle;\n",
       "    }\n",
       "\n",
       "    .dataframe tbody tr th {\n",
       "        vertical-align: top;\n",
       "    }\n",
       "\n",
       "    .dataframe thead th {\n",
       "        text-align: right;\n",
       "    }\n",
       "</style>\n",
       "<table border=\"1\" class=\"dataframe\">\n",
       "  <thead>\n",
       "    <tr style=\"text-align: right;\">\n",
       "      <th></th>\n",
       "      <th>title_review</th>\n",
       "      <th>title</th>\n",
       "      <th>year</th>\n",
       "      <th>year_s</th>\n",
       "      <th>words</th>\n",
       "      <th>user_review</th>\n",
       "      <th>user_suggestion</th>\n",
       "    </tr>\n",
       "  </thead>\n",
       "  <tbody>\n",
       "    <tr>\n",
       "      <th>0</th>\n",
       "      <td>Spooky'sJumpScareMansion 2016.0 I'm scared and...</td>\n",
       "      <td>Spooky'sJumpScareMansion</td>\n",
       "      <td>2016.0</td>\n",
       "      <td>2016.0</td>\n",
       "      <td>132</td>\n",
       "      <td>I'm scared and hearing creepy voices.  So I'll...</td>\n",
       "      <td>1</td>\n",
       "    </tr>\n",
       "    <tr>\n",
       "      <th>1</th>\n",
       "      <td>Spooky'sJumpScareMansion 2016.0 Best game, mor...</td>\n",
       "      <td>Spooky'sJumpScareMansion</td>\n",
       "      <td>2016.0</td>\n",
       "      <td>2016.0</td>\n",
       "      <td>44</td>\n",
       "      <td>Best game, more better than Sam Pepper's YouTu...</td>\n",
       "      <td>1</td>\n",
       "    </tr>\n",
       "    <tr>\n",
       "      <th>2</th>\n",
       "      <td>Spooky'sJumpScareMansion 2016.0 A littly iffy ...</td>\n",
       "      <td>Spooky'sJumpScareMansion</td>\n",
       "      <td>2016.0</td>\n",
       "      <td>2016.0</td>\n",
       "      <td>70</td>\n",
       "      <td>A littly iffy on the controls, but once you kn...</td>\n",
       "      <td>1</td>\n",
       "    </tr>\n",
       "    <tr>\n",
       "      <th>3</th>\n",
       "      <td>Spooky'sJumpScareMansion 2015.0 Great game, fu...</td>\n",
       "      <td>Spooky'sJumpScareMansion</td>\n",
       "      <td>2015.0</td>\n",
       "      <td>2015.0</td>\n",
       "      <td>47</td>\n",
       "      <td>Great game, fun and colorful and all that.A si...</td>\n",
       "      <td>1</td>\n",
       "    </tr>\n",
       "    <tr>\n",
       "      <th>4</th>\n",
       "      <td>Spooky'sJumpScareMansion 2015.0 Not many games...</td>\n",
       "      <td>Spooky'sJumpScareMansion</td>\n",
       "      <td>2015.0</td>\n",
       "      <td>2015.0</td>\n",
       "      <td>67</td>\n",
       "      <td>Not many games have the cute tag right next to...</td>\n",
       "      <td>1</td>\n",
       "    </tr>\n",
       "  </tbody>\n",
       "</table>\n",
       "</div>"
      ],
      "text/plain": [
       "                                        title_review  \\\n",
       "0  Spooky'sJumpScareMansion 2016.0 I'm scared and...   \n",
       "1  Spooky'sJumpScareMansion 2016.0 Best game, mor...   \n",
       "2  Spooky'sJumpScareMansion 2016.0 A littly iffy ...   \n",
       "3  Spooky'sJumpScareMansion 2015.0 Great game, fu...   \n",
       "4  Spooky'sJumpScareMansion 2015.0 Not many games...   \n",
       "\n",
       "                      title    year  year_s  words  \\\n",
       "0  Spooky'sJumpScareMansion  2016.0  2016.0    132   \n",
       "1  Spooky'sJumpScareMansion  2016.0  2016.0     44   \n",
       "2  Spooky'sJumpScareMansion  2016.0  2016.0     70   \n",
       "3  Spooky'sJumpScareMansion  2015.0  2015.0     47   \n",
       "4  Spooky'sJumpScareMansion  2015.0  2015.0     67   \n",
       "\n",
       "                                         user_review  user_suggestion  \n",
       "0  I'm scared and hearing creepy voices.  So I'll...                1  \n",
       "1  Best game, more better than Sam Pepper's YouTu...                1  \n",
       "2  A littly iffy on the controls, but once you kn...                1  \n",
       "3  Great game, fun and colorful and all that.A si...                1  \n",
       "4  Not many games have the cute tag right next to...                1  "
      ]
     },
     "execution_count": 6,
     "metadata": {},
     "output_type": "execute_result"
    }
   ],
   "source": [
    "d_train.head() "
   ]
  },
  {
   "cell_type": "markdown",
   "metadata": {},
   "source": [
    "#### A continuació veiem les correlacions entre els atributs numèrics. Veiwm que entre l'atribut objectiu (suggestion) i els altres dos stributs (letters i year) i ha una correlació bastant petita."
   ]
  },
  {
   "cell_type": "code",
   "execution_count": 7,
   "metadata": {},
   "outputs": [
    {
     "data": {
      "image/png": "[encoded data removed]",
      "text/plain": [
       "<Figure size 432x288 with 2 Axes>"
      ]
     },
     "metadata": {
      "needs_background": "light"
     },
     "output_type": "display_data"
    }
   ],
   "source": [
    "plt.figure()\n",
    "ax = sns.heatmap(d_train.corr(), annot=True, linewidths=.5)"
   ]
  },
  {
   "cell_type": "markdown",
   "metadata": {},
   "source": [
    "#### Veiem que tenim més suggestions de classe 1 que 0"
   ]
  },
  {
   "cell_type": "code",
   "execution_count": 8,
   "metadata": {},
   "outputs": [
    {
     "data": {
      "image/png": "[encoded data removed]",
      "text/plain": [
       "<Figure size 432x288 with 1 Axes>"
      ]
     },
     "metadata": {
      "needs_background": "light"
     },
     "output_type": "display_data"
    }
   ],
   "source": [
    "plt.figure()\n",
    "sns.countplot(d_train[\"user_suggestion\"])\n",
    "plt.show()"
   ]
  }
 ],
 "metadata": {
  "kernelspec": {
   "display_name": "Python 3",
   "language": "python",
   "name": "python3"
  },
  "language_info": {
   "codemirror_mode": {
    "name": "ipython",
    "version": 3
   },
   "file_extension": ".py",
   "mimetype": "text/x-python",
   "name": "python",
   "nbconvert_exporter": "python",
   "pygments_lexer": "ipython3",
   "version": "3.7.3"
  }
 },
 "nbformat": 4,
 "nbformat_minor": 2
}
