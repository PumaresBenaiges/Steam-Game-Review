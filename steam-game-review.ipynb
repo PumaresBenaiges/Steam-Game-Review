{
 "cells": [
  {
   "cell_type": "code",
   "execution_count": 67,
   "metadata": {},
   "outputs": [],
   "source": [
    "import time\n",
    "from sklearn.datasets import make_regression\n",
    "import numpy as np\n",
    "import pandas as pd\n",
    "from matplotlib import pyplot as plt\n",
    "import os\n",
    "import seaborn as sns\n",
    "import math\n",
    "import re\n",
    "from sklearn.model_selection import train_test_split\n",
    "from sklearn.feature_extraction.text import TfidfVectorizer, CountVectorizer\n",
    "from sklearn.pipeline import Pipeline\n",
    "from sklearn.feature_extraction.text import TfidfTransformer\n",
    "from sklearn.linear_model import LinearRegression, LogisticRegression, Perceptron, SGDClassifier\n",
    "import ipympl\n",
    "from sklearn.naive_bayes import GaussianNB, MultinomialNB, ComplementNB\n",
    "from sklearn.tree import DecisionTreeRegressor, DecisionTreeClassifier\n",
    "from sklearn.neighbors import KNeighborsClassifier\n",
    "from sklearn.ensemble import BaggingClassifier, AdaBoostClassifier, RandomForestClassifier\n",
    "from sklearn.metrics import r2_score, classification_report, confusion_matrix, f1_score, precision_recall_curve, average_precision_score, roc_curve, auc\n",
    "%matplotlib widget\n",
    "import warnings\n",
    "warnings.filterwarnings('ignore')"
   ]
  },
  {
   "cell_type": "markdown",
   "metadata": {},
   "source": [
    "### CARREGUEM EL DATASET"
   ]
  },
  {
   "cell_type": "code",
   "execution_count": 68,
   "metadata": {},
   "outputs": [],
   "source": [
    "def load_dataset(path):\n",
    "    d_train = pd.read_csv(path, header=0, delimiter=',')\n",
    "    return d_train\n",
    "\n",
    "os.getcwd()\n",
    "path = 'C:/Users/julia/Documents/JULIA/UNI/3r/kaggle/train_gr'\n",
    "os.chdir(path)\n",
    "os.getcwd()\n",
    "d_train = load_dataset('train.csv')\n",
    "d_overview = load_dataset('game_overview.csv')\n",
    "\n",
    "os.getcwd()\n",
    "path = 'C:/Users/julia/Documents/JULIA/UNI/3r/kaggle/test_gr'\n",
    "os.chdir(path)\n",
    "os.getcwd()\n",
    "d_test = load_dataset('test.csv')"
   ]
  },
  {
   "cell_type": "markdown",
   "metadata": {},
   "source": [
    "### 1. EDA\n"
   ]
  },
  {
   "cell_type": "markdown",
   "metadata": {},
   "source": [
    "El dataset utilitza dades de valoracions de videojocs fetes per usuaris en la plataforma Steam.\n",
    "\n",
    "Tenim 4 atributs:\n",
    "- El nom del videojoc\n",
    "- L'any de la valoració\n",
    "- El comentari que van fer per valorar el videojoc \n",
    "- Un boolea que diu si l'usuari recomana el videojoc (1) o sino el recomana (0)\n",
    "\n",
    "L'objecitu és predir si l'usuari recomana o no el videojoc a partir del comentari i d'altres atributs."
   ]
  },
  {
   "cell_type": "code",
   "execution_count": 69,
   "metadata": {},
   "outputs": [
    {
     "name": "stdout",
     "output_type": "stream",
     "text": [
      "Dimensionalitat de la BBDD train: (17494, 5)\n",
      "Dimensionalitat de la BBDD test: (8045, 4)\n",
      "Nombre de valors no existents:\n",
      "review_id            0\n",
      "title                0\n",
      "year               178\n",
      "user_review          0\n",
      "user_suggestion      0\n",
      "dtype: int64\n",
      "review_id       0\n",
      "title           0\n",
      "year           67\n",
      "user_review     0\n",
      "dtype: int64\n"
     ]
    }
   ],
   "source": [
    "print(\"Dimensionalitat de la BBDD train:\", d_train.shape)\n",
    "print(\"Dimensionalitat de la BBDD test:\", d_test.shape)\n",
    "print(\"Nombre de valors no existents:\")\n",
    "print(d_train.isnull().sum())\n",
    "print(d_test.isnull().sum())"
   ]
  },
  {
   "cell_type": "markdown",
   "metadata": {},
   "source": [
    "#### Observem que només tenim valors inexistents a la variable de l'any.\n",
    "#### La variable review_id l'eliminarem perquè només és un índex i no ens aporta informació.\n",
    "#### Crearem una nova variable que ens diu quantes paraules té cada review.\n",
    "#### Crearem una nova variable que contingui la informació de title, year i review de forma concatenada. (ens serà útil per quan fem el train amb diferents models)."
   ]
  },
  {
   "cell_type": "code",
   "execution_count": 70,
   "metadata": {},
   "outputs": [],
   "source": [
    "d_train.insert(3, 'words', d_train[\"user_review\"].apply(lambda s: len(s.split())))\n",
    "d_train = d_train.drop(['review_id'], axis=1)\n",
    "d_train['title'] = [s.replace(\" \", \"\") for s in d_train['title']]\n",
    "d_train.insert(2, 'year_s', [str(s) for s in d_train['year']])\n",
    "d_train.insert(0, 'title_year_review', d_train['title'] + \" \" + d_train['year_s'] + \" \" + d_train[\"user_review\"])\n",
    "\n",
    "d_test.insert(3, 'words', d_test[\"user_review\"].apply(lambda s: len(s.split())))\n",
    "d_test = d_test.drop(['review_id'], axis=1)\n",
    "d_test['title'] = [s.replace(\" \", \"\") for s in d_test['title']]\n",
    "d_test.insert(2, 'year_s', [str(s) for s in d_test['year']])\n",
    "d_test.insert(0, 'title_year_review', d_test['title'] + \" \" + d_test['year_s'] + \" \" + d_test[\"user_review\"])"
   ]
  },
  {
   "cell_type": "code",
   "execution_count": 71,
   "metadata": {},
   "outputs": [
    {
     "data": {
      "text/html": [
       "<div>\n",
       "<style scoped>\n",
       "    .dataframe tbody tr th:only-of-type {\n",
       "        vertical-align: middle;\n",
       "    }\n",
       "\n",
       "    .dataframe tbody tr th {\n",
       "        vertical-align: top;\n",
       "    }\n",
       "\n",
       "    .dataframe thead th {\n",
       "        text-align: right;\n",
       "    }\n",
       "</style>\n",
       "<table border=\"1\" class=\"dataframe\">\n",
       "  <thead>\n",
       "    <tr style=\"text-align: right;\">\n",
       "      <th></th>\n",
       "      <th>title_year_review</th>\n",
       "      <th>title</th>\n",
       "      <th>year</th>\n",
       "      <th>year_s</th>\n",
       "      <th>words</th>\n",
       "      <th>user_review</th>\n",
       "      <th>user_suggestion</th>\n",
       "    </tr>\n",
       "  </thead>\n",
       "  <tbody>\n",
       "    <tr>\n",
       "      <th>0</th>\n",
       "      <td>Spooky'sJumpScareMansion 2016.0 I'm scared and...</td>\n",
       "      <td>Spooky'sJumpScareMansion</td>\n",
       "      <td>2016.0</td>\n",
       "      <td>2016.0</td>\n",
       "      <td>132</td>\n",
       "      <td>I'm scared and hearing creepy voices.  So I'll...</td>\n",
       "      <td>1</td>\n",
       "    </tr>\n",
       "    <tr>\n",
       "      <th>1</th>\n",
       "      <td>Spooky'sJumpScareMansion 2016.0 Best game, mor...</td>\n",
       "      <td>Spooky'sJumpScareMansion</td>\n",
       "      <td>2016.0</td>\n",
       "      <td>2016.0</td>\n",
       "      <td>44</td>\n",
       "      <td>Best game, more better than Sam Pepper's YouTu...</td>\n",
       "      <td>1</td>\n",
       "    </tr>\n",
       "    <tr>\n",
       "      <th>2</th>\n",
       "      <td>Spooky'sJumpScareMansion 2016.0 A littly iffy ...</td>\n",
       "      <td>Spooky'sJumpScareMansion</td>\n",
       "      <td>2016.0</td>\n",
       "      <td>2016.0</td>\n",
       "      <td>70</td>\n",
       "      <td>A littly iffy on the controls, but once you kn...</td>\n",
       "      <td>1</td>\n",
       "    </tr>\n",
       "    <tr>\n",
       "      <th>3</th>\n",
       "      <td>Spooky'sJumpScareMansion 2015.0 Great game, fu...</td>\n",
       "      <td>Spooky'sJumpScareMansion</td>\n",
       "      <td>2015.0</td>\n",
       "      <td>2015.0</td>\n",
       "      <td>47</td>\n",
       "      <td>Great game, fun and colorful and all that.A si...</td>\n",
       "      <td>1</td>\n",
       "    </tr>\n",
       "    <tr>\n",
       "      <th>4</th>\n",
       "      <td>Spooky'sJumpScareMansion 2015.0 Not many games...</td>\n",
       "      <td>Spooky'sJumpScareMansion</td>\n",
       "      <td>2015.0</td>\n",
       "      <td>2015.0</td>\n",
       "      <td>67</td>\n",
       "      <td>Not many games have the cute tag right next to...</td>\n",
       "      <td>1</td>\n",
       "    </tr>\n",
       "  </tbody>\n",
       "</table>\n",
       "</div>"
      ],
      "text/plain": [
       "                                   title_year_review  \\\n",
       "0  Spooky'sJumpScareMansion 2016.0 I'm scared and...   \n",
       "1  Spooky'sJumpScareMansion 2016.0 Best game, mor...   \n",
       "2  Spooky'sJumpScareMansion 2016.0 A littly iffy ...   \n",
       "3  Spooky'sJumpScareMansion 2015.0 Great game, fu...   \n",
       "4  Spooky'sJumpScareMansion 2015.0 Not many games...   \n",
       "\n",
       "                      title    year  year_s  words  \\\n",
       "0  Spooky'sJumpScareMansion  2016.0  2016.0    132   \n",
       "1  Spooky'sJumpScareMansion  2016.0  2016.0     44   \n",
       "2  Spooky'sJumpScareMansion  2016.0  2016.0     70   \n",
       "3  Spooky'sJumpScareMansion  2015.0  2015.0     47   \n",
       "4  Spooky'sJumpScareMansion  2015.0  2015.0     67   \n",
       "\n",
       "                                         user_review  user_suggestion  \n",
       "0  I'm scared and hearing creepy voices.  So I'll...                1  \n",
       "1  Best game, more better than Sam Pepper's YouTu...                1  \n",
       "2  A littly iffy on the controls, but once you kn...                1  \n",
       "3  Great game, fun and colorful and all that.A si...                1  \n",
       "4  Not many games have the cute tag right next to...                1  "
      ]
     },
     "execution_count": 71,
     "metadata": {},
     "output_type": "execute_result"
    }
   ],
   "source": [
    "d_train.head() "
   ]
  },
  {
   "cell_type": "markdown",
   "metadata": {},
   "source": [
    "#### A continuació veiem les correlacions entre els atributs numèrics. Veiem que entre l'atribut objectiu (suggestion) i els altres dos stributs (letters i year) i ha una correlació bastant petita."
   ]
  },
  {
   "cell_type": "code",
   "execution_count": 72,
   "metadata": {},
   "outputs": [
    {
     "data": {
      "application/vnd.jupyter.widget-view+json": {
       "model_id": "820aabaaa698486ca911de12d93ef1a6",
       "version_major": 2,
       "version_minor": 0
      },
      "text/html": [
       "\n",
       "            <div style=\"display: inline-block;\">\n",
       "                <div class=\"jupyter-widgets widget-label\" style=\"text-align: center;\">\n",
       "                    Figure\n",
       "                </div>\n",
       "                <img src='data:image/png;base64,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' width=640.0/>\n",
       "            </div>\n",
       "        "
      ],
      "text/plain": [
       "Canvas(toolbar=Toolbar(toolitems=[('Home', 'Reset original view', 'home', 'home'), ('Back', 'Back to previous …"
      ]
     },
     "metadata": {},
     "output_type": "display_data"
    }
   ],
   "source": [
    "plt.figure()\n",
    "ax = sns.heatmap(d_train.corr(), annot=True, linewidths=.5)"
   ]
  },
  {
   "cell_type": "markdown",
   "metadata": {},
   "source": [
    "#### Veiem que hi ha més recomanacions positives (1), que recomenacions negatives (0)."
   ]
  },
  {
   "cell_type": "code",
   "execution_count": 73,
   "metadata": {},
   "outputs": [
    {
     "data": {
      "application/vnd.jupyter.widget-view+json": {
       "model_id": "d2a408ddd6844dc1b2e54084021c82dd",
       "version_major": 2,
       "version_minor": 0
      },
      "text/html": [
       "\n",
       "            <div style=\"display: inline-block;\">\n",
       "                <div class=\"jupyter-widgets widget-label\" style=\"text-align: center;\">\n",
       "                    Figure\n",
       "                </div>\n",
       "                <img src='data:image/png;base64,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' width=640.0/>\n",
       "            </div>\n",
       "        "
      ],
      "text/plain": [
       "Canvas(toolbar=Toolbar(toolitems=[('Home', 'Reset original view', 'home', 'home'), ('Back', 'Back to previous …"
      ]
     },
     "metadata": {},
     "output_type": "display_data"
    }
   ],
   "source": [
    "plt.figure()\n",
    "sns.countplot(d_train[\"user_suggestion\"])\n",
    "plt.show()"
   ]
  },
  {
   "cell_type": "markdown",
   "metadata": {},
   "source": [
    "#### Separem l'atribut objectiu (y) que és l'atribut que ens diu si l'usuari recomana o no el videojoc. El voldrem predir a partir de l'atribut que hem creat que conté el nom del videojoc, l'any i el comentari."
   ]
  },
  {
   "cell_type": "code",
   "execution_count": 74,
   "metadata": {},
   "outputs": [],
   "source": [
    "data = d_train.values\n",
    "X_train = data[:, 0]\n",
    "y_train = data[:, len(d_train.columns)-1]\n",
    "y_train = y_train.astype('int')\n",
    "\n",
    "data = d_test.values\n",
    "X_test = data[:, 0]"
   ]
  },
  {
   "cell_type": "markdown",
   "metadata": {},
   "source": [
    "### 2. Creem un model"
   ]
  },
  {
   "cell_type": "markdown",
   "metadata": {},
   "source": [
    "#### Separem les dades en entranament i validació"
   ]
  },
  {
   "cell_type": "code",
   "execution_count": 79,
   "metadata": {},
   "outputs": [],
   "source": [
    "x_t, x_v, y_t, y_v = train_test_split(X_train, y_train, train_size=0.8, stratify=y_train)\n",
    "vectorizer = CountVectorizer()"
   ]
  },
  {
   "cell_type": "markdown",
   "metadata": {},
   "source": [
    "#### Provarem diferents models per veure quin és el que té millor score."
   ]
  },
  {
   "cell_type": "code",
   "execution_count": 111,
   "metadata": {},
   "outputs": [],
   "source": [
    "names = [\n",
    "    \"SGDClassifier       \",\n",
    "    \"Logistic Regression \",\n",
    "    \"Perceptron          \",\n",
    "    \"ComplementNB        \",\n",
    "    \"MultinomialNB       \",\n",
    "    \"Nearest Neighbors   \",\n",
    "    \"Decision Tree       \",\n",
    "    \"Random Forest       \",\n",
    "    \"Bagging             \",\n",
    "    \"AdaBoost            \"\n",
    "]\n",
    "classifiers = [\n",
    "    SGDClassifier(penalty='l2', alpha=0.0001, max_iter=91, tol=0.01, shuffle=False),\n",
    "    LogisticRegression(C=12.0, fit_intercept=True, penalty='l2', tol=0.1),\n",
    "    Perceptron(tol=0.005, random_state=0),\n",
    "    ComplementNB(),\n",
    "    MultinomialNB(alpha=1.0),\n",
    "    KNeighborsClassifier(6),\n",
    "    DecisionTreeClassifier(max_depth=5),\n",
    "    RandomForestClassifier(max_depth=5, n_estimators=10, max_features=1),\n",
    "    BaggingClassifier(KNeighborsClassifier(n_neighbors=3), max_samples=0.5, max_features=0.5),\n",
    "    AdaBoostClassifier(n_estimators=10)\n",
    "]"
   ]
  },
  {
   "cell_type": "code",
   "execution_count": 112,
   "metadata": {},
   "outputs": [
    {
     "name": "stdout",
     "output_type": "stream",
     "text": [
      "Mètode                   Temps   Score\n",
      "| SGDClassifier        | 1.72s |  87.9 % |\n",
      "| Logistic Regression  | 1.83s |  88.4 % |\n",
      "| Perceptron           | 1.93s |  85.1 % |\n",
      "| ComplementNB         | 1.78s |  83.0 % |\n",
      "| MultinomialNB        | 1.65s |  78.8 % |\n",
      "| Nearest Neighbors    | 1.53s |  74.7 % |\n",
      "| Decision Tree        | 2.35s |  70.9 % |\n",
      "| Random Forest        | 1.54s |  57.0 % |\n",
      "| Bagging              | 1.94s |  56.4 % |\n",
      "| AdaBoost             | 18.6s |  82.9 % |\n"
     ]
    }
   ],
   "source": [
    "print(\"Mètode                   Temps   Score\")\n",
    "for i in range(len(classifiers)):\n",
    "    clf = Pipeline([('vect', vectorizer), ('tfidf', TfidfTransformer()),\n",
    "                    ('clf', classifiers[i])])\n",
    "    inici = time.time()\n",
    "    clf = clf.fit(x_t, y_t)\n",
    "    fi = time.time()\n",
    "    print(\"| \" + names[i] + \" | \" + str(round(fi-inici, 2))+ \"s |  \" + str(round(100*clf.score(x_v, y_v),1))+\" % |\")"
   ]
  },
  {
   "cell_type": "markdown",
   "metadata": {},
   "source": [
    "#### Els mètodes que funcionen millor són SGDC i Logistic Regression així que buscarem els millors hiperparàmetres per veure si podem millor el resultat que tenim fins ara."
   ]
  },
  {
   "cell_type": "markdown",
   "metadata": {},
   "source": [
    "### 3. Busquem els millors hiperparàmetres \n",
    "#### SGDC"
   ]
  },
  {
   "cell_type": "code",
   "execution_count": 114,
   "metadata": {},
   "outputs": [
    {
     "name": "stdout",
     "output_type": "stream",
     "text": [
      "Millor alpha: 0.0001\n",
      "Score màxim:  0.879394112603601\n"
     ]
    }
   ],
   "source": [
    "maxi = 0\n",
    "l = [0.0001, 0.001, 0.005, 0.01, 0.05, 0.1, 0.5, 1.0]\n",
    "for a in l:\n",
    "    clf = Pipeline([('vect', vectorizer), ('tfidf', TfidfTransformer()),\n",
    "                ('clf', SGDClassifier(penalty='l2', alpha=a, max_iter=94, tol=0.01, shuffle=False))])\n",
    "    clf = clf.fit(x_t, y_t)\n",
    "    m = clf.score(x_v, y_v)\n",
    "    if (m > maxi):\n",
    "        maxi = m\n",
    "        a_max = a\n",
    "print(\"Millor alpha:\", a_max)\n",
    "print(\"Score màxim: \", maxi)"
   ]
  },
  {
   "cell_type": "code",
   "execution_count": 87,
   "metadata": {},
   "outputs": [
    {
     "name": "stdout",
     "output_type": "stream",
     "text": [
      "Millor tol:   0.05\n",
      "Score màxim:  0.8813946841954844\n"
     ]
    }
   ],
   "source": [
    "maxi = 0\n",
    "l = [0.0001, 0.001, 0.005, 0.01, 0.05, 0.1, 0.5, 1.0]\n",
    "for tol in l:\n",
    "    clf = Pipeline([('vect', vectorizer), ('tfidf', TfidfTransformer()),\n",
    "                ('clf', SGDClassifier(penalty='l2', alpha=a_max, max_iter=94, tol=tol, shuffle=False))])\n",
    "    clf = clf.fit(x_t, y_t)\n",
    "    m = clf.score(x_v, y_v)\n",
    "    if (m > maxi):\n",
    "        maxi = m\n",
    "        tol_max = tol\n",
    "print(\"Millor tol:  \", tol_max)\n",
    "print(\"Score màxim: \", maxi)"
   ]
  },
  {
   "cell_type": "code",
   "execution_count": 88,
   "metadata": {},
   "outputs": [
    {
     "name": "stdout",
     "output_type": "stream",
     "text": [
      "Millor iter:  90\n",
      "Score màxim:  0.8813946841954844\n"
     ]
    }
   ],
   "source": [
    "maxi = 0\n",
    "for i in range(90,110):\n",
    "    clf = Pipeline([('vect', vectorizer), ('tfidf', TfidfTransformer()),\n",
    "                ('clf', SGDClassifier(penalty='l2', alpha=a_max, max_iter=i, tol=tol_max, shuffle=False))])\n",
    "    clf = clf.fit(x_t, y_t)\n",
    "    m = clf.score(x_v, y_v)\n",
    "    if (m > maxi):\n",
    "        maxi = m\n",
    "        i_max = i\n",
    "print(\"Millor iter: \", i_max)\n",
    "print(\"Score màxim: \", maxi)"
   ]
  },
  {
   "cell_type": "markdown",
   "metadata": {},
   "source": [
    "#### Regressor Logístic"
   ]
  },
  {
   "cell_type": "code",
   "execution_count": 108,
   "metadata": {},
   "outputs": [
    {
     "name": "stdout",
     "output_type": "stream",
     "text": [
      "Millor c:     4\n",
      "Score màxim:  0.8888253786796227\n"
     ]
    }
   ],
   "source": [
    "maxi = 0\n",
    "l = [0.5, 1.0, 1.5, 2.0, 2.5, 3.0, 3.5, 4.0, 4.5, 5.0]\n",
    "for c in range(3,15):\n",
    "    clf = Pipeline([('vect', vectorizer), ('tfidf', TfidfTransformer()),\n",
    "                ('clf', LogisticRegression(C=c, fit_intercept=True, penalty='l2', tol=0.1))])\n",
    "    clf = clf.fit(x_t, y_t)\n",
    "    m = clf.score(x_v, y_v)\n",
    "    if (m > maxi):\n",
    "        maxi = m\n",
    "        c_max = c\n",
    "print(\"Millor c:    \", c_max)\n",
    "print(\"Score màxim: \", maxi)"
   ]
  },
  {
   "cell_type": "code",
   "execution_count": 90,
   "metadata": {},
   "outputs": [
    {
     "name": "stdout",
     "output_type": "stream",
     "text": [
      "Millor t:     0.1\n",
      "Score màxim:  0.8888253786796227\n"
     ]
    }
   ],
   "source": [
    "folds = 5\n",
    "maxi = 0\n",
    "l = [0.0001, 0.001, 0.005, 0.01, 0.05, 0.1, 0.5, 1.0]\n",
    "for t in l:\n",
    "    clf = Pipeline([('vect', vectorizer), \n",
    "                ('tfidf', TfidfTransformer()),\n",
    "                ('clf', LogisticRegression(C=c_max, fit_intercept=True, penalty='l2', tol=t))])\n",
    "    clf = clf.fit(x_t, y_t)\n",
    "    m = clf.score(x_v, y_v)\n",
    "    if (m > maxi):\n",
    "        maxi = m\n",
    "        t_max = t\n",
    "print(\"Millor t:    \", t_max)\n",
    "print(\"Score màxim: \", maxi)"
   ]
  },
  {
   "cell_type": "markdown",
   "metadata": {},
   "source": [
    "### 4. Comprovem com funciona el model"
   ]
  },
  {
   "cell_type": "code",
   "execution_count": 115,
   "metadata": {},
   "outputs": [
    {
     "data": {
      "text/plain": [
       "Pipeline(memory=None,\n",
       "         steps=[('vect',\n",
       "                 CountVectorizer(analyzer='word', binary=False,\n",
       "                                 decode_error='strict',\n",
       "                                 dtype=<class 'numpy.int64'>, encoding='utf-8',\n",
       "                                 input='content', lowercase=True, max_df=1.0,\n",
       "                                 max_features=None, min_df=1,\n",
       "                                 ngram_range=(1, 1), preprocessor=None,\n",
       "                                 stop_words=None, strip_accents=None,\n",
       "                                 token_pattern='(?u)\\\\b\\\\w\\\\w+\\\\b',\n",
       "                                 tokenizer=None, vocabulary=None)),\n",
       "                ('tfidf',\n",
       "                 TfidfTransformer(norm='l2', smooth_idf=True,\n",
       "                                  sublinear_tf=False, use_idf=True)),\n",
       "                ('clf',\n",
       "                 LogisticRegression(C=4, class_weight=None, dual=False,\n",
       "                                    fit_intercept=True, intercept_scaling=1,\n",
       "                                    l1_ratio=None, max_iter=100,\n",
       "                                    multi_class='warn', n_jobs=None,\n",
       "                                    penalty='l2', random_state=None,\n",
       "                                    solver='warn', tol=0.1, verbose=0,\n",
       "                                    warm_start=False))],\n",
       "         verbose=False)"
      ]
     },
     "execution_count": 115,
     "metadata": {},
     "output_type": "execute_result"
    }
   ],
   "source": [
    "#SGDClassifier\n",
    "clf1 = Pipeline([('vect', vectorizer), ('tfidf', TfidfTransformer()),\n",
    "                    ('clf', SGDClassifier(penalty='l2', alpha=a_max, max_iter=i_max, tol=tol_max, shuffle=False))])\n",
    "clf1.fit(x_t, y_t)\n",
    "#Logistic Regression\n",
    "clf2 = Pipeline([('vect', vectorizer), ('tfidf', TfidfTransformer()),\n",
    "                    ('clf', LogisticRegression(C=c_max, fit_intercept=True, penalty='l2', tol=t_max))])\n",
    "clf2.fit(x_t, y_t)"
   ]
  },
  {
   "cell_type": "markdown",
   "metadata": {},
   "source": [
    "#### Precision and Recall"
   ]
  },
  {
   "cell_type": "code",
   "execution_count": 92,
   "metadata": {},
   "outputs": [],
   "source": [
    "def precision_recall_roc(probs):\n",
    "    n_classes=2\n",
    "    precision = {}\n",
    "    recall = {}\n",
    "    average_precision = {}\n",
    "    plt.figure()\n",
    "    for i in range(n_classes):\n",
    "        precision[i], recall[i], _ = precision_recall_curve(y_v == i, probs[:, i])\n",
    "        average_precision[i] = average_precision_score(y_v == i, probs[:, i])\n",
    "\n",
    "        plt.plot(recall[i], precision[i],\n",
    "        label='Precision-Recall curve class {0} (area = {1:0.2f})'\n",
    "                               ''.format(i, average_precision[i]))\n",
    "        plt.xlabel('Recall')\n",
    "        plt.ylabel('Precision')\n",
    "        plt.legend(loc=\"lower left\")\n",
    "\n",
    "    # Compute ROC curve and ROC area for each class\n",
    "    fpr = {}\n",
    "    tpr = {}\n",
    "    roc_auc = {}\n",
    "    for i in range(n_classes):\n",
    "        fpr[i], tpr[i], _ = roc_curve(y_v == i, probs[:, i])\n",
    "        roc_auc[i] = auc(fpr[i], tpr[i])\n",
    "\n",
    "    # Compute micro-average ROC curve and ROC area and Plot ROC curve\n",
    "    plt.figure()\n",
    "    for i in range(n_classes):\n",
    "        plt.plot(fpr[i], tpr[i], label='ROC curve of class {0} (area = {1:0.2f})' ''.format(i, roc_auc[i]))\n",
    "        plt.legend()"
   ]
  },
  {
   "cell_type": "code",
   "execution_count": 93,
   "metadata": {},
   "outputs": [
    {
     "data": {
      "application/vnd.jupyter.widget-view+json": {
       "model_id": "1a76acbdd3e54ea7ad5ef80b6f350bdb",
       "version_major": 2,
       "version_minor": 0
      },
      "text/html": [
       "\n",
       "            <div style=\"display: inline-block;\">\n",
       "                <div class=\"jupyter-widgets widget-label\" style=\"text-align: center;\">\n",
       "                    Figure\n",
       "                </div>\n",
       "                <img src='data:image/png;base64,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' width=640.0/>\n",
       "            </div>\n",
       "        "
      ],
      "text/plain": [
       "Canvas(toolbar=Toolbar(toolitems=[('Home', 'Reset original view', 'home', 'home'), ('Back', 'Back to previous …"
      ]
     },
     "metadata": {},
     "output_type": "display_data"
    },
    {
     "data": {
      "application/vnd.jupyter.widget-view+json": {
       "model_id": "3aa69bc0f8f0498fb687d926ec4e8764",
       "version_major": 2,
       "version_minor": 0
      },
      "text/html": [
       "\n",
       "            <div style=\"display: inline-block;\">\n",
       "                <div class=\"jupyter-widgets widget-label\" style=\"text-align: center;\">\n",
       "                    Figure\n",
       "                </div>\n",
       "                <img src='data:image/png;base64,iVBORw0KGgoAAAANSUhEUgAAAoAAAAHgCAYAAAA10dzkAAAABHNCSVQICAgIfAhkiAAAAAlwSFlzAAAPYQAAD2EBqD+naQAAADh0RVh0U29mdHdhcmUAbWF0cGxvdGxpYiB2ZXJzaW9uMy4xLjAsIGh0dHA6Ly9tYXRwbG90bGliLm9yZy+17YcXAAAgAElEQVR4nOzde1jUZf7/8deAnBUSD+AB8cCWpmQGlYfUTAN11ay1sszDZppuWepmX83MrNTWPHCV66E81G5mrpl7mbkWmafC1dX0t+2CaaZhBesxUEFAuH9/ECPDDAoJDMzn+biuuS7mns/hPYM6L+/7c98fmzHGCAAAAJbh5e4CAAAAULUIgAAAABZDAAQAALAYAiAAAIDFEAABAAAshgAIAABgMQRAAAAAiyEAAgAAWAwBEAAAwGIIgAAAABZDAAQAALAYAiAAAIDFEAABAAAshgAIAABgMQRAAAAAiyEAAgAAWAwBEAAAwGIIgAAAABZDAAQAALAYAiAAAIDFEAABAAAshgAIAABgMQRAAAAAiyEAAgAAWAwBEAAAwGIIgAAAABZDAAQAALAYAiAAAIDFEAABAAAshgAIAABgMQRAAAAAiyEAAgAAWAwBEAAAwGIIgAAAABZDAAQAALAYAiAAAIDFEAABAAAshgAIAABgMQRAAAAAiyEAAgAAWAwBEAAAwGIIgAAAABZDAAQAALAYAiAAAIDFEAABAAAshgAIAABgMQRAAAAAiyEAAgAAWAwBEAAAwGIIgAAAABZDAAQAALAYAiAAAIDFEAABAAAshgAIAABgMQRAAAAAiyEAAgAAWEwtdxdQkxUUFOinn35SnTp1ZLPZ3F0OAAAoA2OMzp07p8aNG8vLy5p9YQTAa/DTTz8pIiLC3WUAAIBf4fjx42ratKm7y3ALAuA1qFOnjqTCP0DBwcFurgYAAJRFZmamIiIi7N/jVkQAvAZFw77BwcEEQAAAahgrX75lzYFvAAAACyMAAgAAWAwBEAAAwGIIgAAAABZDAAQAALAYAiAAAIDFEAABAAAshgAIAABgMQRAAAAAi/GYALhjxw71799fjRs3ls1m09///ver7rN9+3bFxMTI399fLVu21JIlS6qgUgAAAPfymAB44cIFtW/fXgsXLizT9kePHlXfvn3VtWtX7d+/X88995yeeuoprVu3rpIrBQAAcC+PuRdwnz591KdPnzJvv2TJEjVr1kwJCQmSpDZt2mjv3r2aO3eufve731VWmQAA/HrGSHlZ7q5Cxhhl5+VXybkCAuvI5uUx/VXVhscEwPLatWuX4uLiHNri4+O1fPly5eXlycfHx2mfnJwc5eTk2J9nZmZWep0AUK1UcgCpymBR8xj5/7WfvP73tbsLkU1SYBWdK+uZVAXWDqmis1mHZQNgenq6wsLCHNrCwsJ06dIlnTp1So0aNXLaZ/bs2ZoxY0ZVlQjAU3hMr03lB5CqDBaAlVk2AEqSzWZzeG6McdleZMqUKZo4caL9eWZmpiIiIiqvQABVr6LDmjHSyt5SurV6bVB5/lsQqftzp8u4uY7W4cF6d+RtKuUrs8IEBNap3BNYlGUDYHh4uNLT0x3aTpw4oVq1aqlevXou9/Hz85Ofn19VlAegSBX2nhlTILOiT7UYYqvOKjuAVFWwqKla+ARqbzX4cAJ8vEvtMEH1Z9kA2KlTJ3300UcObZ9++qliY2NdXv8HoIKVJdhVce+Z7ZdHZfCkXpvKDiAEC6DyeUwAPH/+vL799lv786NHj+rAgQMKDQ1Vs2bNNGXKFP3444/6y1/+IkkaM2aMFi5cqIkTJ2rUqFHatWuXli9frtWrV7vrLQA1V3l76arRsKgrlRHWsuWnGxuFaO2YTm7t2SJcAZA8KADu3btXPXr0sD8vulZv+PDhevvtt5WWlqbU1FT76y1atNCmTZs0YcIE/fnPf1bjxo31+uuvswQMUNLVwl0VhLmq7D1rHR6sd8fcqb1eFR+SCF8AqgubKZr5gHLLzMxUSEiIMjIyFBwc7O5ygApjCgqUnXVOlT3rs6zBLlt+Km1w9sZGwRXaq0ZIAzwf398e1AMIoHzsS4KU6OEzxig9oYda5X9XruP9ml66omB3LSGOwAYA5UcABDxQqeu9/RL2jJEeWb5H36Rnaq3vDLX1+t5hs1YlditLuLuWMEeIA4CqRQAEaiCngFesF68o3B1Md7xTjU1yCHvrJcm/9HMc8W6p8PFbZbPZyjXrkzAHANUfARCorlwMzWbn5TsFvJLBTrp6uCupICxaF4duVPHr7Fpy/00A8FgEQMAdrjKz1tWCxMXv4lDegFdc8bBX1Fvn5ROoQHrtAMAyCIBAZbhSwCvDsim/ZkHikr14pQ3FEvYAAARA4FqVDHsVuC5eyckXxe/iUDLgEewAAGVFAATKowLD3tVm1rpakJgJFgCAikAABEpzjWEvPyxa9+e8oJT0cy5fL764saulUwh7AIDKQgAESjJGyr1QrrBX/Pq7olm6+7/PkZQnV7M1SgY+wh4AoCoRAAHpcm9fGXr5XA3dZn/vJ73yZYkt6d0DAFRPBEBY29V6+8KjVTDiH/rtG1/q2OkLkq58X9riioJfoC9hDwBQvRAAYS3Fr+u7Qm+fCY9W9iMbZWoFqd/CL3X0dL4kf7WoH6SN4+4o023O6OUDAFRXBEB4tjIGPklSeLTM7/+hrNwC3b/8/ym5xJBui/pB2jKxu7y8CHUAgJqNAAjPVI6JHEUTOEytIN2/5J9KTst02ubGRsHaOO4Owh8AwCMQAFGzubrjRjl6+uyzdZ0mcDhO3mA4FwDgSQiAqJnKs1TLL4EvO6+gcNdagSV6+hyDHZM3AACejgCImqMcS7VIjhM5ShvalViTDwBgPQRA1AwFBdKb3VyGvuKLMBcxRi4nchRHTx8AwKoIgKjeioZ6l3aTzhxxeKnoVmtffZ/r8hq+kujpAwCgEAEQ1ZerXr/QVioYvV2/W/LPYrdaKz3EMZEDAABnBEBUP6X0+pnwaGWN+Fz9Fibp6KlcXelWa0UIfQAAOCMAonq5Qq9fvyX7lfxior256K4cXMMHAED5EABRfRjjHP7Co1Uwart6Ltipo6cu2JtZmBkAgF+PAIjqwRjpwqnL4S+0lczj25Vl/NWvWPij1w8AgGtHAIT7GSOtiJeO77Y3FQ75HnBYu4978QIAUDEIgHC/3AsO4c9EdFTPN/bq6OnLt3hjyBcAgIpDAIT7FJ/t+4uCPx5WzyX/tYc/hnwBAKh4BEC4h4vZviY82in8MeQLAEDFIwCi6hUUSAtjHdb4yw+L1t3nXiL8AQBQBQiAqFpFS738Ev4K6rbSIPNq4e3clC2J8AcAQGUjAKLqGCNz4aRsvwz7/ujVWHekzZApdjs3JnsAAFD5CICodMYYZedekt9f+sr7xz329ruzXpGRl6TLt3NjsgcAAJWPAIhKVVBg1O+NL3Qs7YSS/S+Hv38VXK8s+RH8AABwAwIgKoUxRlm5+YXh79Q5bfF9zv7aQyHvatnY3kr2sinAh+AHAEBVIwCiQhUFv/uX7PrlLh5GH/tOVUuvdElSQVi03nv8t7J5ebm3UAAALIwAiArhHPwKBSpHbb2+L3wS2kpej++QCH8AALgVARDXrOg6v+LBT5LahtfWR7Zp0tlfGgh/AABUCwRA/CrGGGXn5csYqd8bX+joqQv2124Mr6O1I29S4Mq7ZCta7Dk8WvINclO1AACgOAIgyq20Hr8W9QK1cUwHBa7qJ9u8y7d4U2grafQOickeAABUCwRAlEtBgVHP+dsdevykwuHejf5THYOfVNjzN5qhXwAAqhMCIMqk+LIuReGvRf0gbXyyi2yXLihgxV2ypV++t6/Co6Xfby4c9qXnDwCAaoUAiKsyxmjQkl3a9/1Ze1uLeoHa8mSMvN7uIaWXGO59fAfBDwCAaowAiCsyxuj0hVyH8HdjeB19XPsV2V7d7bgxw70AANQIBECUytVkj73P91I9n1zZZhcLfwz3AgBQoxAA4ZIxzuEvttl1heFvaffLGz7zrRRUn+AHAEANQgCES1m5+fbwVzTZI3DVb517/gh/AADUOARAODHG6P4lu+zPNz7ZRUGXfpaOlwh/rO0HAECNRACEk+K9fzeG11Hgqt86hj+GfQEAqNGYrgkHJXv/1o5sL1vx8BfRkfAHAEANRw8gHGTnFev9axSsQF/vyy/S8wcAgEegBxClWjumk2zFw55vIOEPAAAPQACEA2Mu/2yzlWgAAAAegQAIu6KFn+2MkVb2dl9BAACgUhAAIenyws9HT12QVHj9X4AuXr7Pb3i05BPoxgoBAEBFYRIIJLle+Nn2VrfLG/x+M9f/AQDgITyqB3DRokVq0aKF/P39FRMTo507d15x+4SEBN1www0KCAhQRESEJkyYoIsXL1ZRtdWH08LP4+6QV362Y++fb5CbqgMAABXNYwLgmjVrNH78eE2dOlX79+9X165d1adPH6WmprrcftWqVZo8ebKmT5+ulJQULV++XGvWrNGUKVOquHL3c1j4uWjpl+KTP+j9AwDAo3hMAJw/f75Gjhypxx57TG3atFFCQoIiIiK0ePFil9vv2rVLXbp00cMPP6zmzZsrLi5ODz30kPbu3VvFlbuX08LPYzrJZoy0tNjwL+EPAACP4hEBMDc3V/v27VNcXJxDe1xcnJKSklzuc8cdd2jfvn3as2ePJOm7777Tpk2b9Nvf/rbS661OnHr/fGzSwljpzJHCDZj8AQCAx/GISSCnTp1Sfn6+wsLCHNrDwsKUnp7ucp/Bgwfr5MmTuuOOO2SM0aVLlzR27FhNnjy51PPk5OQoJyfH/jwzM7Ni3oCbOPX+Pd5Rtje7Xw5/oa2k0TvoAQQAwMN4RA9gEVuJoGKMcWorsm3bNs2cOVOLFi3SV199pQ8//FAbN27Uyy+/XOrxZ8+erZCQEPsjIiKiQuuvSsYYnb6Q69j7Zyu27EtoK+nJvZKXR/0RAQAA8pAewPr168vb29upt+/EiRNOvYJFpk2bpqFDh+qxxx6TJEVHR+vChQsaPXq0pk6dKi8XwWfKlCmaOHGi/XlmZmaNDIHGGA1askv7vj9rb1v7eEfZVva4vNHjOwh/AAB4KI/4hvf19VVMTIwSExMd2hMTE9W5c2eX+2RlZTmFPG9vbxljZEq5/Zmfn5+Cg4MdHjVRdl6+Q/iLjazr2PvHsi8AAHg0j+gBlKSJEydq6NChio2NVadOnfTmm28qNTVVY8aMkSQNGzZMTZo00ezZsyVJ/fv31/z589WhQwfdfvvt+vbbbzVt2jQNGDBA3t7e7nwrlcoYo6zcfPvzvc/3Ur3AWrItvPXyRiz7AgCAR/OYAPjggw/q9OnTeumll5SWlqZ27dpp06ZNioyMlCSlpqY69Pg9//zzstlsev755/Xjjz+qQYMG6t+/v2bOnOmut1DpXA39Bvp4OU78oPcPAACPZzOljXfiqjIzMxUSEqKMjIwaMRx8IeeS2k7/xP48ttl1WjvsN7LN/U1hAxM/AAAWUNO+vyuDx/QA4spKLvmyd+pdqrfqbtnmfn15IyZ+AABgCXzbW0R2XrEFn8PrFIa/9GLhL6IjQ78AAFgEPYAWtHZke9nmFVvv7/EdheGPiR8AAFgCAdAiil/p6ZDzHt8h+dWu8noAAID7MARsASWv/3NArx8AAJZDALSArNx8h1u+Bfh47jqHAADg6giAHq5k79/aMZ1Enx8AANZGAPRwDrN/GwUr0MdLWtnbzVUBAAB3IgB6uOKTP9aO6SRbXpbjPX99At1TGAAAcBsCoAcrOfxrU4G0tNvlDbjnLwAAlkQA9GAlF38OWHkX9/wFAAAEQKtYO7L95Tt/hLaSRu+g9w8AAIsiAFqEzVbsYkDu+QsAgKWRAizByP+v/S4/pecPAABLIwB6sKIZwIHKkdf/mPkLAAAKEQA91OUZwEZrfWdcfoGZvwAAWB4B0EMVzQAOVI7aen1f2MjMXwAAIAKgh6P3DwAAOCMAeihjpAB6/wAAgAsEQA9U8g4gkuj9AwAAdgRAD1R0/Z9D3CP8AQCAXxAAPVDh8i8lrv8DAAD4BQHQwxQN/zpd/8fafwAA4BcEQA/jcviX6/8AAEAxBEAPZFOBNvo+V6yB8AcAAC4jAHoaY7TRd6paeqUXPmf4FwAAlEAA9DR5F+zX/hWEtpJG76AHEAAAOCAAehJj5PfXfvanFx/9XPLiVwwAAByRDjyIyb0g7/99LUn6b0Gk5MOdPwAAgDMCoAfJzsu3/zwtdK4CfGu5sRoAAFBdEQA9irH/9NeRt8vGtX8AAMAFAqCnMEb+xa7/I/sBAIDSEAA9RV6WvByu/2PpFwAA4BoB0APdnzudLkAAAFAqAqCnMJev/zNX2AwAAIAA6AmMkVnZ291VAACAGoIA6AnysmRLv3z9X4vwBgrw8XZzUQAAoLpioTgPc3/udP1rbGeWgAEAAKWiB9DDGDH/AwAAXBkB0AMYw7QPAABQdgRAD1D8FnCtw4O5/g8AAFwRAdADFO8BfHfkbVz/BwAArogAWMOZggKlJ/SwPyf7AQCAqyEA1nDZWefUKv87SdIR75YKCKzj5ooAAEB1RwCs4YoP/4aP3yqbF79SAABwZaSFGsx5+JfxXwAAcHUEwBos60Imw78AAKDcCIA1VMneP4Z/AQBAWZEYaqiSkz8Cg4LdXBEAAKgpCIA1VPGbf9D7BwAAyoPUUAMZY/TI8j3250z+AAAA5UEArIGy8/J1MD3T/pxbvwEAgPIgAHoAegABAEB5EABroOLX/wEAAJQXAbCGMcbo/iW73F0GAACowQiANUx2Xr6S0zKvviEAAEApPCoALlq0SC1atJC/v79iYmK0c+fOK27/888/64knnlCjRo3k7++vNm3aaNOmTVVULQAAgHvUcncBFWXNmjUaP368Fi1apC5dumjp0qXq06ePkpOT1axZM6ftc3Nzdffdd6thw4b64IMP1LRpUx0/flx16nA7NQAA4Nk8JgDOnz9fI0eO1GOPPSZJSkhI0CeffKLFixdr9uzZTtuvWLFCZ86cUVJSknx8fCRJkZGRVVozAACAO3jEEHBubq727dunuLg4h/a4uDglJSW53GfDhg3q1KmTnnjiCYWFhaldu3aaNWuW8vPzq6Lka8bCLwAA4NfyiB7AU6dOKT8/X2FhYQ7tYWFhSk9Pd7nPd999p88//1xDhgzRpk2bdPjwYT3xxBO6dOmSXnjhBZf75OTkKCcnx/48M9NdkzGM1vrOcNO5AQBATecRPYBFSi6IbIwpdZHkgoICNWzYUG+++aZiYmI0ePBgTZ06VYsXLy71+LNnz1ZISIj9ERERUaH1l1WActTW6/vCJ+HRkk+gW+oAAAA1k0cEwPr168vb29upt+/EiRNOvYJFGjVqpOuvv17e3pdvo9amTRulp6crNzfX5T5TpkxRRkaG/XH8+PGKexO/1u83S9wJBAAAlINHBEBfX1/FxMQoMTHRoT0xMVGdO3d2uU+XLl307bffqqCgwN526NAhNWrUSL6+vi738fPzU3BwsMOjqjndBYTwBwAAyskjAqAkTZw4UcuWLdOKFSuUkpKiCRMmKDU1VWPGjJEkDRs2TFOmTLFvP3bsWJ0+fVpPP/20Dh06pI8//lizZs3SE0884a63cFUFBUb93viCCSAAAOCaeMQkEEl68MEHdfr0ab300ktKS0tTu3bttGnTJvvSLqmpqfLyupx3IyIi9Omnn2rChAm66aab1KRJEz399NP6v//7P3e9hSsypjD8HT11Xh8zAQQAAFwDmzFOg4ooo8zMTIWEhCgjI6PSh4Ozci/pxhc+UYAuKsX/0cLG8Gjp8Z0MAwMAUA5V+f1dXXnMELAlMQEEAAD8CgTAmozwBwAAfgUCIAAAgMUQAAEAACyGAAgAAGAxBEAAAACLIQACAABYDAGwhmHeLwAAuFYEwBrFaC13AQEAANeIAFiDBChHbb2+L3wSHi35BLq3IAAAUCMRAGsq7gICAAB+JQJgDeF0x2bCHwAA+JUIgDWAMUb3L9nl7jIAAICHIADWANl5+UpOy3R3GQAAwEMQAAEAACyGAAgAAGAxBEAAAACLIQACAABYDAEQAADAYgiAAAAAFkMABAAAsBgCIAAAgMUQAAEAACyGAFiDcPdfAABQEQiANYAxkmS01neGu0sBAAAegABYzRljdP+SXQpQjtp6fV/YGB4t+QS6tzAAAFBjEQCruey8fCWnZTo2/n6zZGNAGAAA/DoEwJqI8AcAAK4BARAAAMBiCIAAAAAWQwAEAACwGAJgDcFVfwAAoKIQAGsE1gAEAAAVhwBYA7AGIAAAqEgEwJqGNQABAMA1IgDWNIQ/AABwjQiAAAAAFkMABAAAsBgCYDVnjLsrAAAAnoYAWI0ZY3T/kl3uLgMAAHgYAmA1lp2Xr+S0TBaBBgAAFYoAWO2xCDQAAKhYBMBqjkWgAQBARSMA1iQsAg0AACoAAbAmIfwBAIAKQAAEAACwGAIgAACAxRAAAQAALIYACAAAYDEEQAAAAIshAAIAAFgMARAAAMBiCIAAAAAWQwAEAACwGAIgAACAxRAAAQAALIYACAAAYDEeFQAXLVqkFi1ayN/fXzExMdq5c2eZ9nv//fdls9k0cODASq4QAADA/TwmAK5Zs0bjx4/X1KlTtX//fnXt2lV9+vRRamrqFff7/vvv9cwzz6hr165VVCkAAIB7eUwAnD9/vkaOHKnHHntMbdq0UUJCgiIiIrR48eJS98nPz9eQIUM0Y8YMtWzZsgqrBQAAcB+PCIC5ubnat2+f4uLiHNrj4uKUlJRU6n4vvfSSGjRooJEjR5bpPDk5OcrMzHR4AAAA1DQeEQBPnTql/Px8hYWFObSHhYUpPT3d5T5ffvmlli9frrfeeqvM55k9e7ZCQkLsj4iIiGuqGwAAwB08IgAWsdlsDs+NMU5tknTu3Dk98sgjeuutt1S/fv0yH3/KlCnKyMiwP44fP37NNQMAAFS1Wu4uoCLUr19f3t7eTr19J06ccOoVlKQjR47o2LFj6t+/v72toKBAklSrVi198803atWqldN+fn5+8vPzq+DqAQAAqpZH9AD6+voqJiZGiYmJDu2JiYnq3Lmz0/atW7fW119/rQMHDtgfAwYMUI8ePXTgwAGGdgEAgEfziB5ASZo4caKGDh2q2NhYderUSW+++aZSU1M1ZswYSdKwYcPUpEkTzZ49W/7+/mrXrp3D/tddd50kObW7m/MANgAAwLXxmAD44IMP6vTp03rppZeUlpamdu3aadOmTYqMjJQkpaamysurhnV4GqO1vjPcXQUAAPAwNmOMcXcRNVVmZqZCQkKUkZGh4ODgCj9+1vkMBc5tJkkqCIuW15idkotJLQAAoOwq+/u7JqhhXWLWdXHoRsIfAACoEATAGoPwBwAAKgYBEAAAwGIIgAAAABZDAKzGmJ4DAAAqAwGwmjLG6JHle9xdBgAA8EAEwGoqOy9fB9Mz7c8DfLzdWA0AAPAkBMAawsYSMAAAoIIQAAEAACyGAAgAAGAxBEAAAACLIQACAABYDAEQAADAYgiAAAAAFkMABAAAsBgCIAAAgMUQAAEAACyGAAgAAGAxBEAAAACLIQBWY9z9FwAAVAYCYHVljNb6znB3FQAAwAMRAKurvCy19fpeklQQFi35BLq5IAAA4CkIgDXAxaEbJRsDwgAAoGIQAGsEwh8AAKg4BEAAAACLIQACAABYDAEQAADAYgiAAAAAFkMABAAAsBgCIAAAgMUQAAEAACyGAAgAAGAxBMBqy7i7AAAA4KEIgNWRMfL/az93VwEAADwUAbA6ysuS1/++liT9tyBS8gl0c0EAAMCTEACruftzp0s27gUMAAAqDgGwmuNKQAAAUNEIgAAAABZDAAQAALAYAiAAAIDFEAABAAAshgAIAABgMQRAAAAAiyEAAgAAWAwBEAAAwGIIgAAAABZDAAQAALAYAmA1ZAw3gAMAAJWHAFgNZefl239uHR6sAB9vN1YDAAA8DQGwmnt35G2y2WzuLgMAAHgQAmA1R/YDAAAVjQAIAABgMQRAAAAAiyEAAgAAWAwBEAAAwGIIgAAAABbjUQFw0aJFatGihfz9/RUTE6OdO3eWuu1bb72lrl27qm7duqpbt6569eqlPXv2VGG1AAAA7uExAXDNmjUaP368pk6dqv3796tr167q06ePUlNTXW6/bds2PfTQQ9q6dat27dqlZs2aKS4uTj/++GMVVw4AAFC1bMZD7jt2++2365ZbbtHixYvtbW3atNHAgQM1e/bsq+6fn5+vunXrauHChRo2bFiZzpmZmamQkBBlZGQoODj4V9deUtb5DAXObVb48zOpCqwdUmHHBgDA6irr+7sm8YgewNzcXO3bt09xcXEO7XFxcUpKSirTMbKyspSXl6fQ0NBSt8nJyVFmZqbDAwAAoKbxiAB46tQp5efnKywszKE9LCxM6enpZTrG5MmT1aRJE/Xq1avUbWbPnq2QkBD7IyIi4prqBgAAcAePCIBFSt4z1xhTpvvozpkzR6tXr9aHH34of3//UrebMmWKMjIy7I/jx49fc80AAABVrZa7C6gI9evXl7e3t1Nv34kTJ5x6BUuaO3euZs2apc8++0w33XTTFbf18/OTn5/fNdcLAADgTh7RA+jr66uYmBglJiY6tCcmJqpz586l7vfaa6/p5Zdf1ubNmxUbG1vZZQIAAFQLHtEDKEkTJ07U0KFDFRsbq06dOunNN99UamqqxowZI0kaNmyYmjRpYp8RPGfOHE2bNk3vvfeemjdvbu89rF27tmrXru229wEAAFDZPCYAPvjggzp9+rReeuklpaWlqV27dtq0aZMiIyMlSampqfLyutzhuWjRIuXm5mrQoEEOx5k+fbpefPHFqiwdAACgSnnMOoDuwDqAAADUPKwD6CHXAAIAAKDsCIAAAAAWQwAEAACwGAIgAACAxRAAAQAALIYACAAAYDEEQAAAAIshAAIAAFgMARAAAMBiCIAAAAAWQwAEAACwGAIgAACAxRAAAQAALIYACAAAYDEEQAAAAIshAAIAAFgMARAAAMBiCIAAAAAWQwAEAACwGAIgAACAxRAAAQAALMF8Fa4AACAASURBVIYACAAAYDEEQAAAAIup5e4CAHim/Px85eXlubsMABbk4+Mjb29vd5dRrREAAVQoY4zS09P1888/u7sUABZ23XXXKTw8XDabzd2lVEsEQAAVqij8NWzYUIGBgfzjC6BKGWOUlZWlEydOSJIaNWrk5oqqJwIggAqTn59vD3/16tVzdzkALCogIECSdOLECTVs2JDhYBeYBAKgwhRd8xcYGOjmSgBYXdG/Q1yL7BoBEECFY9gXgLvx79CVEQABAAAshgAIAKhUX375paKjo+Xj46OBAweWe/9t27bJZrPVuJnln3/+uVq3bq2CggJ3l+JxnnnmGT311FPuLqNGIwACgKQRI0bIZrPJZrOpVq1aatasmcaOHauzZ886bZuUlKS+ffuqbt268vf3V3R0tObNm6f8/Hynbbdu3aq+ffuqXr16CgwM1I033qg//vGP+vHHH6vibVULEydO1M0336yjR4/q7bffdnc55Xb27FkNHTpUISEhCgkJ0dChQ8sURp999llNnTpVXl6e+1W7fft2xcTEyN/fXy1bttSSJUuuus/f/vY33XzzzQoMDFRkZKRee+01h9eLAn/Jx8GDB+3bPPvss1q5cqWOHj1a4e/JKjz3TyUAlFPv3r2VlpamY8eOadmyZfroo4/0hz/8wWGb9evXq3v37mratKm2bt2qgwcP6umnn9bMmTM1ePBgGWPs2y5dulS9evVSeHi41q1bp+TkZC1ZskQZGRmaN29elb2v3NzcKjuXK0eOHNFdd92lpk2b6rrrrnNrLb/Gww8/rAMHDmjz5s3avHmzDhw4oKFDh15xn6SkJB0+fFj333//NZ3b3b+7Kzl69Kj69u2rrl27av/+/Xruuef01FNPad26daXu849//ENDhgzRmDFj9J///EeLFi3S/PnztXDhQqdtv/nmG6Wlpdkfv/nNb+yvNWzYUHFxcWUKnCiFwa+WkZFhJJmMjIwKPe6Fcz8bMz3YmOnBhT8DNUR2drZJTk422dnZ7i6l3IYPH27uueceh7aJEyea0NBQ+/Pz58+bevXqmfvuu89p/w0bNhhJ5v333zfGGHP8+HHj6+trxo8f7/J8Z8+eLbWWs2fPmlGjRpmGDRsaPz8/07ZtW/PRRx8ZY4yZPn26ad++vcP2CxYsMJGRkU7vZdasWaZRo0YmMjLSTJ482dx+++1O54qOjjYvvPCC/fmKFStM69atjZ+fn7nhhhvMn//851LrNMaYixcvmnHjxpkGDRoYPz8/06VLF7Nnzx5jjDFHjx41khweK1euLPU4kyZNMk2bNjW+vr4mKirKLFu2zBhjzNatW40k+2d26tQpM3jwYNOkSRMTEBBg2rVrZ9577z2H461du9a0a9fO+Pv7m9DQUNOzZ09z/vx5+/FuvfVWExgYaEJCQkznzp3NsWPHXNaVnJxsJJl//vOf9rZdu3YZSebgwYOlfi7jxo0zgwYNcmj79ttvzYABA0zDhg1NUFCQiY2NNYmJiQ7bREZGmpdfftkMHz7cBAcHm2HDhhljjPnhhx/MAw88YK677joTGhpqBgwYYI4ePWrfb8+ePaZXr16mXr16Jjg42HTr1s3s27ev1PoqwrPPPmtat27t0Pb444+bjh07lrrPQw895PS5LFiwwDRt2tQUFBQYY5x/36V5++23TURERKmvX+nfo8r6/q5J6AEEUKmMMcrKveSWhynWG1de3333nTZv3iwfHx9726effqrTp0/rmWeecdq+f//+uv7667V69WpJ0tq1a5Wbm6tnn33W5fFL6wkrKChQnz59lJSUpHfffVfJycl69dVXy72O2ZYtW5SSkqLExERt3LhRQ4YM0e7du3XkyBH7Nv/973/19ddfa8iQIZKkt956S1OnTtXMmTOVkpKiWbNmadq0aXrnnXdKPc+zzz6rdevW6Z133tFXX32lqKgoxcfH68yZM4qIiFBaWpqCg4OVkJCgtLQ0Pfjggy6PM2zYML3//vt6/fXXlZKSoiVLlqh27dout7148aJiYmK0ceNG/ec//9Ho0aM1dOhQ7d69W5KUlpamhx56SI8++qhSUlK0bds23XfffTLG6NKlSxo4cKC6d++uf//739q1a5dGjx5d6ozRXbt2KSQkRLfffru9rWPHjgoJCVFSUlKpn8uOHTsUGxvr0Hb+/Hn17dtXn332mfbv36/4+Hj1799fqampDtu99tprateunfbt26dp06YpKytLPXr0UO3atbVjxw598cUXql27tnr37m3vITx37pyGDx+unTt36p///Kd+85vfqG/fvjp37lypNa5atUq1a9e+4mPVqlWl7r9r1y7FxcU5tMXHx2vv3r2lLr2Sk5Mjf39/h7aAgAD98MMP+v777x3aO3TooEaNGqlnz57aunWr07Fuu+02HT9+3Gk/lA0LQQOoVNl5+brxhU/ccu7kl+IV6Fv2f+Y2btyo2rVrKz8/XxcvXpQkzZ8/3/76oUOHJElt2rRxuX/r1q3t2xw+fFjBwcHlvgvBZ599pj179iglJUXXX3+9JKlly5blOoYkBQUFadmyZfL19bW33XTTTXrvvfc0bdo0SYUB4NZbb7Wf5+WXX9a8efN03333SZJatGih5ORkLV26VMOHD3c6x4ULF7R48WK9/fbb6tOnj6TCEJmYmKjly5dr0qRJ9ltxhYSEKDw83GWthw4d0t/+9jclJiaqV69eV33PTZo0cQjh48aN0+bNm7V27VrdfvvtSktL06VLl3TfffcpMjJSkhQdHS1JOnPmjDIyMtSvXz+1atVKUum/T6nwzjYNGzZ0am/YsKHS09NL3e/YsWNq3LixQ1v79u3Vvn17+/NXXnlF69ev14YNG/Tkk0/a2++66y6H97dixQp5eXlp2bJl9qC6cuVKXXfdddq2bZvi4uJ01113OZxr6dKlqlu3rrZv365+/fq5rHHAgAEOwdaVsLCwUl9LT093ej0sLEyXLl3SqVOnXP7Zj4+P14QJEzRixAj16NFD3377rRISEiQVBvfmzZurUaNGevPNNxUTE6OcnBz99a9/Vc+ePbVt2zZ169bNfqwmTZpIKvysi37PKDsCIAD8okePHlq8eLGysrK0bNkyHTp0SOPGjXParrSeRWOM/Qu6+M/lceDAATVt2tQeyn6t6Ohoh/AnSUOGDNGKFSs0bdo0GWO0evVqjR8/XpJ08uRJHT9+XCNHjtSoUaPs+1y6dEkhISEuz3HkyBHl5eWpS5cu9jYfHx/ddtttSklJKXOtBw4ckLe3t7p3716m7fPz8/Xqq69qzZo1+vHHH5WTk6OcnBwFBQVJKgxaPXv2VHR0tOLj4xUXF6dBgwapbt26Cg0N1YgRIxQfH6+7775bvXr10gMPPHDFoO7q93i13292drZTT9eFCxc0Y8YMbdy4UT/99JMuXbqk7Oxspx7Akj2H+/bt07fffqs6deo4tF+8eNHeo3vixAm98MIL+vzzz/W///1P+fn5ysrKcjp2cXXq1HE6ZnmV/AyK/m6U9tmMGjVKR44cUb9+/ZSXl6fg4GA9/fTTevHFF+293DfccINuuOEG+z6dOnXS8ePHNXfuXIcAWHS3j6ysrGt6D1ZFAARQqQJ8vJX8Urzbzl0eQUFBioqKkiS9/vrr6tGjh2bMmKGXX35ZkuyhLCUlRZ07d3ba/+DBg7rxxhvt22ZkZCgtLa1cvYBFX2ql8fLycgqgrobbisJQcQ8//LAmT56sr776StnZ2Tp+/LgGDx4sSfalSt566y2nXqHShp9L+7Ivb/i92nsuad68eVqwYIESEhIUHR2toKAgjR8/3j4c6u3trcTERCUlJenTTz/VG2+8oalTp2r37t1q0aKFVq5cqaeeekqbN2/WmjVr9PzzzysxMVEdO3Z0Old4eLj+97//ObWfPHnyir1j9evXd5pBPmnSJH3yySeaO3euoqKiFBAQoEGDBjlN9Cj5uysoKFBMTIzL4dgGDRpIKpzFfvLkSSUkJCgyMlJ+fn7q1KnTFSeRrFq1So8//nipr0uFPYlFlwiUFB4e7tQLeuLECdWqVavUW0HabDb96U9/0qxZs5Senq4GDRpoy5YtkqTmzZuXWkfHjh317rvvOrSdOXNG0uXPAOVDAARQqWw2W7mGYauT6dOnq0+fPho7dqwaN26suLg4hYaGat68eU4BcMOGDTp8+LA9LA4aNEiTJ0/WnDlztGDBAqdj//zzzy6vA7zpppv0ww8/6NChQy57ARs0aKD09HSHkHXgwIEyvZ+mTZuqW7duWrVqlbKzs9WrVy97iAkLC1OTJk303XfflfqFX1JUVJR8fX31xRdf6OGHH5ZUGEb37t1r71ksi+joaBUUFGj79u32IeAr2blzp+655x498sgjkgoD0uHDhx2Gcm02m7p06aIuXbrohRdeUGRkpNavX6+JEydKKry+rEOHDpoyZYo6deqk9957z2UA7NSpkzIyMrRnzx7ddtttkqTdu3crIyPD5X8CinTo0EHJyclOdY8YMUL33nuvpMJrAo8dO3bV93vLLbdozZo1atiwoYKDg0v9TBYtWqS+fftKko4fP65Tp05d8bjXOgTcqVMnffTRRw5tn376qWJjYx2unXXF29vbPoS7evVqderUyeVQe5H9+/c7/UfqP//5j3x8fNS2bdsrnguu1cx/lQGgCtx5551q27atZs2apYULFyooKEhLly7V4MGDNXr0aD355JMKDg7Wli1bNGnSJA0aNEgPPPCAJCkiIkILFizQk08+qczMTA0bNkzNmzfXDz/8oL/85S+qXbu2y6Vgunfvrm7duul3v/ud5s+fr6ioKB08eFA2m029e/fWnXfeqZMnT2rOnDkaNGiQNm/erH/84x+lBoOShgwZohdffFG5ublOwfTFF1/UU089peDgYPXp00c5OTnau3evzp49aw9OxQUFBWns2LGaNGmSQkND1axZM82ZM0dZWVkaOXJkmT/n5s2ba/jw4Xr00Uf1+uuvq3379vr+++914sQJ++dZXFRUlNatW6ekpCTVrVtX8+fPV3p6uj0A7t69W1u2bFFcXJwaNmyo3bt36+TJk2rTpo2OHj2qN998UwMGDFDjxo31zTff6NChQxo2bJjL2tq0aaPevXtr1KhRWrp0qSRp9OjR6tevn8MwZUnx8fFOk2eioqL04Ycfqn///rLZbJo2bVqZFokeMmSIXnvtNd1zzz166aWX1LRpU6WmpurDDz/UpEmT1LRpU0VFRemvf/2rYmNjlZmZqUmTJl21Z/Vah4DHjBmjhQsXauLEiRo1apR27dql5cuX2ydCSdLChQu1fv16ey/fqVOn9MEHH+jOO+/UxYsXtXLlSq1du1bbt2+375OQkKDmzZurbdu2ys3N1bvvvqt169Y5LS+zc+dOde3atdw9yPiFW+YeewiWgQEcedoyMMYYs2rVKuPr62tSU1PtbTt27DC9e/c2ISEhxtfX19x4441m7ty55tKlS077JyYmmvj4eFO3bl3j7+9vWrdubZ555hnz008/lVrL6dOnze9//3tTr1494+/vb9q1a2c2btxof33x4sUmIiLCBAUFmWHDhpmZM2e6XAbGlbNnzxo/Pz8TGBhozp075/L93nzzzcbX19fUrVvXdOvWzXz44Yel1pqdnW3GjRtn6tev77QMTJGQkJBSl38pfpwJEyaYRo0a2ZeBWbFihTHGeVmQ06dPm3vuucfUrl3bNGzY0Dz//PNm2LBh9vecnJxs4uPj7UvTXH/99eaNN94wxhiTnp5uBg4caD9PZGSkeeGFF0x+fn6ptZ0+fdoMGTLE1KlTx9SpU8cMGTLkqkuUnDlzxgQEBDgsFXP06FHTo0cPExAQYCIiIszChQtN9+7dzdNPP23fJjIy0ixYsMDpeGlpaWbYsGH2z7lly5Zm1KhR9u+fr776ysTGxho/Pz/zm9/8xqxdu7bUY1Wkbdu2mQ4dOhhfX1/TvHlzs3jxYofXp0+f7vBn8+TJk6Zjx44mKCjIBAYGmp49ezossWOMMX/6059Mq1atjL+/v6lbt6654447zMcff+x07uuvv96sXr261NpYBubKbMZcwzoJFpeZmamQkBBlZGSU+X/fZZF1PkOBc5sV/vxMqgJru74AG6huLl68qKNHj6pFixZOF8ADVvPss88qIyPD3nOIivPxxx9r0qRJ+ve//61atVwPZl7p36PK+v6uSVgHEACASjB16lRFRka6vEUgrs2FCxe0cuXKUsMfro5PDgCAShASEqLnnnvO3WV4JFfXhqJ86AEEAACwGAIgAACAxRAAAQAALIYACAAAYDEEQAAAAIshAAIAAFgMARAAAMBiCIAAgEr15ZdfKjo6Wj4+Pho4cGC599+2bZtsNpt+/vnnSqiu8nzzzTcKDw/XuXPn3F2Kx1m4cKEGDBjg7jJqNAIgAEgaMWKEbDabbDabatWqpWbNmmns2LE6e/as07ZJSUnq27ev6tatK39/f0VHR2vevHku7/iwdetW9e3bV/Xq1VNgYKBuvPFG/fGPf9SPP/5YFW+rWpg4caJuvvlmHT16VG+//ba7yym3mTNnqnPnzgoMDNR1111X5v2mTp2qJ554QnXq1KnE6tzr66+/Vvfu3RUQEKAmTZropZde0tXuMLtlyxZ17txZderUUaNGjfR///d/unTpkv31Y8eO2f8uFn9s3rzZvs2oUaP0r3/9S1988UWlvTdPRwAEgF/07t1baWlpOnbsmJYtW6aPPvpIf/jDHxy2Wb9+vbp3766mTZtq69atOnjwoJ5++mnNnDlTgwcPdvjyW7p0qXr16qXw8HCtW7dOycnJWrJkiTIyMjRv3rwqe1+5ublVdi5Xjhw5orvuuktNmzYtV4CqLnJzc3X//fdr7NixZd7nhx9+0IYNG/T73//+ms9dXWVmZuruu+9W48aN9a9//UtvvPGG5s6dq/nz55e6z7///W/17dtXvXv31v79+/X+++9rw4YNmjx5stO2n332mdLS0uyPu+66y/6an5+fHn74Yb3xxhuV8t4sweBXy8jIMJJMRkZGhR73wrmfjZkebMz04MKfgRoiOzvbJCcnm+zsbHeXUm7Dhw8399xzj0PbxIkTTWhoqP35+fPnTb169cx9993ntP+GDRuMJPP+++8bY4w5fvy48fX1NePHj3d5vrNnz5Zay9mzZ82oUaNMw4YNjZ+fn2nbtq356KOPjDHGTJ8+3bRv395h+wULFpjIyEin9zJr1izTqFEjExkZaSZPnmxuv/12p3NFR0ebF154wf58xYoVpnXr1sbPz8/ccMMN5s9//nOpdRpjzMWLF824ceNMgwYNjJ+fn+nSpYvZs2ePMcaYo0ePGkkOj5UrV5Z6nEmTJpmmTZsaX19fExUVZZYtW2aMMWbr1q1Gkv0zO3XqlBk8eLBp0qSJCQgIMO3atTPvvfeew/HWrl1r2rVrZ/z9/U1oaKjp2bOnOX/+vP14t956qwkMDDQhISGmc+fO5tixY1d8n8YYs3LlShMSEnLV7YwxZt68eSY2NtahrSx1d+/e3TzxxBNmwoQJpl69eqZbt27GGGN+/vlnM2rUKNOgQQNTp04d06NHD3PgwAH7ft9++60ZMGCAadiwoQkKCjKxsbEmMTGxTLX+WosWLTIhISHm4sWL9rbZs2ebxo0bm4KCApf7TJkyxelzWb9+vfH39zeZmZnGmMt/bvbv33/F82/bts34+vqarKwsl69f6d+jyvr+rknoAQRQuYyRci+453GVoagr+e6777R582b5+PjY2z799FOdPn1azzzzjNP2/fv31/XXX6/Vq1dLktauXavc3Fw9++yzLo9fWk9YQUGB+vTpo6SkJL377rtKTk7Wq6++Km9v73LVv2XLFqWkpCgxMVEbN27UkCFDtHv3bh05csS+zX//+199/fXXGjJkiCTprbfe0tSpUzVz5kylpKRo1qxZmjZtmt55551Sz/Pss89q3bp1euedd/TVV18pKipK8fHxOnPmjCIiIpSWlqbg4GAlJCQoLS1NDz74oMvjDBs2TO+//75ef/11paSkaMmSJapdu7bLbS9evKiYmBht3LhR//nPfzR69GgNHTpUu3fvliSlpaXpoYce0qOPPqqUlBRt27ZN9913n4wxunTpkgYOHKju3bvr3//+t3bt2qXRo0fLZrOV6/O9mh07dig2NrZcdRd55513VKtWLX355ZdaunSpjDH67W9/q/T0dG3atEn79u3TLbfcop49e+rMmTOSpPPnz6tv37767LPPtH//fsXHx6t///5KTU0ttcadO3eqdu3aV3zMmjWr1P137dql7t27y8/Pz94WHx+vn376SceOHXO5T05Ojvz9/R3aAgICdPHiRe3bt8+hfcCAAWrYsKG6dOmiDz74wOlYsbGxysvL0549e0qtEaWr5e4CKtKiRYv02muvKS0tTW3btlVCQoK6du1a6vbr1q3TtGnTdOTIEbVq1UozZ87UvffeW4UVAxaQlyXNauyecz/3k+QbVObNN27cqNq1ays/P18XL16UJIfhrEOHDkmS2rRp43L/1q1b27c5fPiwgoOD1ahRo3KV/Nlnn2nPnj1KSUnR9ddfL0lq2bJluY4hSUFBQVq2bJl8fX3tbTfddJPee+89TZs2TZK0atUq3XrrrfbzvPzyy5o3b57uu+8+SVKLFi2UnJyspUuXavjw4U7nuHDhghYvXqy3335bffr0kVQYIhMTE7V8+XJNmjRJ4eHhstlsCgkJUXh4uMtaDx06pL/97W9KTExUr169rvqemzRp4hDCx40bp82bN2vt2rW6/fbblZaWpkuXLum+++5TZGSkJCk6OlqSdObMGWVkZKhfv35q1aqVpNJ/n9fi2LFjiomJKVfdRaKiojRnzhz7888//1xff/21Tpw4YQ9bc+fO1d///nd98MEHGj16tNq3b6/27dvb93nllVe0fv16bdiwQU8++aTLGmNjY3XgwIErvo/Q0NBSX0tPT1fz5s0d2sLCwuyvtWjRwmmf+Ph4JSQkaPXq1XrggQeUnp6uV155RVJhcJek2rVra/78+erSpYu8vLy0YcMGPfjgg3rnnXf0yCOP2I8VFBSk6667TseOHVP37t2v+D7gzGMC4Jo1azR+/HgtWrRIXbp00dKlS9WnTx8lJyerWbNmTtvv2rVLDz74oF5++WXde++9Wr9+vR544AF98cUXDn8RAVhHjx49tHjxYmVlZWnZsmU6dOiQxo0b57SdKaVn0Rhj70kq/nN5HDhwQE2bNrWHsl8rOjraIfxJ0pAhQ7RixQpNmzZNxhitXr1a48ePlySdPHlSx48f18iRIzVq1Cj7PpcuXVJISIjLcxw5ckR5eXnq0qWLvc3Hx0e33XabUlJSylzrgQMH5O3tXeYv8fz8fL366qtas2aNfvzxR+Xk5CgnJ0dBQYVhv3379urZs6eio6MVHx+vuLg4DRo0SHXr1lVoaKhGjBih+Ph43X333erVq5ceeOCBcgf1q8nOznbq6bpa3UVK9hzu27dP58+fV7169ZzOUdSje+HCBc2YMUMbN27UTz/9pEuXLik7O/uKPYABAQGKioq6lrfp9Ge86O9GaX/24+Li9Nprr2nMmDEaOnSo/Pz8NG3aNH3xxRf2Xu769etrwoQJ9n1iY2N19uxZzZkzxyEAFr2HrKysa3oPVuUxAXD+/PkaOXKkHnvsMUlSQkKCPvnkEy1evFizZ8922j4hIUF33323pkyZIkmaMmWKtm/fbv+fCYAK4hNY2BPnrnOXQ1BQkP0L8fXXX1ePHj00Y8YMvfzyy5JkD2UpKSnq3Lmz0/4HDx7UjTfeaN82IyNDaWlp5QoXAQEBV3zdy8vLKYDm5eW5fC8lPfzww5o8ebK++uorZWdn6/jx4xo8eLCkwqFnqbAHr+R/gksbfi7ty7684fdq77mkefPmacGCBUpISFB0dLSCgoI0fvx4+4QJb29vJSYmKikpSZ9++qneeOMNTZ06Vbt371aLFi20cuVKPfXUU9q8ebPWrFmj559/XomJierYsWO56riS+vXrO80gv1rdRUr+7goKCtSoUSNt27bN6TxFlxJMmjRJn3zyiebOnauoqCgFBARo0KBBV5xEsnPnTnvPbWmee+45Pffccy5fCw8PV3p6ukPbiRMnJF3uCXRl4sSJmjBhgtLS0lS3bl0dO3ZMU6ZMcdljWKRjx45atmyZU/uZM2fUoEGDK74HuOYR1wDm5uZq3759iouLc2iPi4tTUlKSy3127drltH18fHyp20uF1y5kZmY6PABchc1WOAzrjsc1Xtc1ffp0zZ07Vz/9VBhg4+LiFBoa6nIG74YNG3T48GE99NBDkqRBgwbJ19fXYSivuNLWtLvpppv0ww8/2IeSS2rQoIHS09MdQuDVhvGKNG3aVN26ddOqVau0atUq9erVy/5FHRYWpiZNmui7775TVFSUw6O0L+aoqCj5+vo6LMWRl5envXv3lmtYNTo6WgUFBdq+fXuZtt+5c6fuuecePfLII2rfvr1atmypw4cPO2xjs9nUpUsXzZgxQ/v375evr6/Wr19vf71Dhw6aMmWKkpKS1K5dO7333ntlrrcsOnTooOTk5HLX7cott9yi9PR01apVy+l3U79+ffuxR4wYoXvvvVfR0dEKDw8v9Tq8IkVDwFd6jBkzptT9O3XqpB07djiEzE8//VSNGzd2GhouyWazqXHjxgoICNDq1asVERGhW265pdTt9+/f7/QfqSNHjujixYvq0KHDFc8F1zyiB/DUqVPKz893+h9HWFiY0/9OiqSnp5dre0maPXu2ZsyYce0FA6gR7rzzTrVt21azZs3SwoULFRQUpKVLl2rw4MEaPXq0nnzySQUHB2vLli2aNGmSBg0apAceeECSFBERoQULFujJJ59UZmamhg0bpubNm+uHH37QX/7yF9WuXdtlkOzevbu6trUPygAADrJJREFUdeum3/3ud5o/f76ioqJ08OBB2Ww29e7dW3feeadOnjypOXPmaNCgQdq8ebP+8Y9/KDg4uEzvaciQIXrxxReVm5urBQsWOLz24osv6qmnnlJwcLD69OmjnJwc7d27V2fPntXEiROdjhUUFKSxY8dq0qRJCg0NVbNmzTRnzhxlZWVp5MiRZf6cmzdvruHDh+vRRx/V66+/rvbt2+v777/XiRMn7J9ncVFRUVq3bp2SkpJUt25dzZ8/X+np6fbQuXv3bm3ZskVxcXFq2LChdu/erZMnT6pNmzY6evSo3nzzTQ0YMECNGzfWN998o0OHDmnYsGGl1peamqozZ84oNTVV+fn59sAdFRVV6kSV+Ph4PfbYY8rPz7f3oF6t7tL06tVLnTp10sCBA/WnP/1JN9xwg3766Sdt2rRJAwcOVGxsrKKiovThhx+qf//+stlsmjZtmr1XtzTXOgT88MMPa8aMGRoxYoSee+45HT58WLNmzdL/b+9uY9oq2ziAX7T0ZWVYcAgUrDhIpBA0zhKRDZjoAkQz2ae5OIEsmvmCS4cxBsNgZA4EWYxRB2aIOt0ydGM4XZqNLo4Nh8a40Kgpbk5gTBmZI9tohgiF6/lAqE9pu9GOnq49/1/SD7s5p716rTn9t73PfaqqquzfALe3t9Mbb7xBv/32m32/hoYGKigoIIlEQgcPHqS6ujr68ssv7X3avXs3yWQyWrZsGUkkEvrmm2/ovffeo/r6eofH7+rqosTERPtcTvCQn84+XlB//fUXExF3d3c7jG/fvp2Tk5Nd7iOTyZxOv9+zZw8rFAq3jzM+Ps7Xrl2z3y5cuOCT08inp6b4uvUqX7de5empqQW9bwBfCrZlYJiZ9+7dy3K5nAcHB+1jJ0+e5IKCAlar1SyXyzk1NZV37NjBNpvNaX+TycT5+fkcGRnJSqWSdTodv/baazw0NOS2lpGREd6wYQMvWbKElUolp6Wl8eHDh+1/b2pqYq1Wy2FhYVxcXMw1NTUul4Fx5cqVK6xQKFilUrHVanX5fB988EGWy+UcGRnJOTk5fPDgQbe1/vPPP7xp0yaOiopyWgZmllqtdrv8y//fT1lZGWs0GvsyMB9//DEzOy8DMzIywoWFhbx48WKOjo7mLVu2cHFxsf05WywWzs/Pty9Nc9999/H777/PzMzDw8O8Zs0a++MkJCRwVVUVT93gWFtSUuK0nA0R8fHjx93uY7PZOD4+no8cOWIfu1ndzDPLwBgMBqf7Gx0d5U2bNnFcXBzLZDLWarW8fv16++uyv7+fc3NzedGiRazVavmDDz5we18L6eeff+bs7GxWKBQcGxvL1dXVDkvAfPLJJzw3auTm5rJarWalUskZGRlsNBod/v7pp59ySkoKq1QqDg8PZ71ez59//rnTY+fl5fFbb73ltjYsA3NjIcy3sE7CbWJiYoJUKhXt37/f4Sxeg8FAZrPZ5c8K99xzD5WVlTlMNJ2dm3H+/Pl5Pe7o6Cip1Wq6du3avD99AwSz8fFx6u/vp6VLlzpNgAcQm8bGRjp06BAdPXrU36UEnV9//ZUef/xxOnv2rNuTlG50PML7d5DMAZTL5aTX68lkMjmMm0wmlxO1iWbmLszdvqOjw+32AAAAnti4cSPl5OTgWsA+MDQ0RJ999pnb8Ac3FxRzAIlmzioqKiqi9PR0yszMpF27dtHg4KB9AmtxcTHFx8fbzwg2GAyUk5ND9fX1VFhYSIcOHaJjx47huoIAALAgQkNDqaKiwt9lBKW5J3GC54ImAD799NM0MjJC27Zto4sXL1JaWhoZjUb7IqCDg4Mkkfz3hefy5cuptbWVtmzZQpWVlZSUlERffPEF1gAEAACAoBcUcwD9BXMIABxhDiAA3C4wB/DGgmIOIADcXvC5EgD8DcehG0MABIAFI5PJiIhwaSYA8LvZ49DscQkcBc0cQADwP6lUShEREfbLQalUKq+uhwsA4C1mprGxMbp06RJFRES4vZSh2CEAAsCCio2NJaL/rgkKAOAPERER9uMROEMABIAFFRISQhqNhqKjo2lyctLf5QCACMlkMnzzdxMIgADgE1KpFAdgAIDbFE4CAQAAABAZBEAAAAAAkUEABAAAABAZzAG8BbOLTI6Ojvq5EgAAAJiv2fdtMS8WjQB4C6xWKxERabVaP1cCAAAAnrJaraRWq/1dhl/gWsC3YHp6moaGhig8PHzBF7sdHR0lrVZLFy5cEO11CoWAPgsDfRYG+iwM9FkYvuwzM5PVaqW4uDiSSMQ5Gw7fAN4CiURCd999t08f44477sABRgDoszDQZ2Ggz8JAn4Xhqz6L9Zu/WeKMvQAAAAAihgAIAAAAIDLS6urqan8XAa5JpVJ69NFHKTQUv9T7EvosDPRZGOizMNBnYaDPvoOTQAAAAABEBj8BAwAAAIgMAiAAAACAyCAAAgAAAIgMAiAAAACAyCAA+kljYyMtXbqUlEol6fV66urquuH2bW1tlJqaSgqFglJTU6m9vV2gSgOfJ71ubm6m7OxsioyMpMjISFq1ahX9+OOPAlYbuDx9Tc9qbW2lkJAQWrNmjY8rDA6e9vnq1atUWlpKGo2GlEolpaSkkNFoFKjawOVpn999911KTk6mRYsWkVarpbKyMhofHxeo2sB08uRJWr16NcXFxVFISAh99dVXN93nxIkTpNfrSalUUmJiIn344YcCVBqkGATX2trKMpmMm5ub2WKxsMFg4LCwMD5//rzL7bu7u1kqlXJtbS339vZybW0th4aG8g8//CBw5YHH014/88wzvHPnTu7p6eHe3l7esGEDq9Vq/vPPPwWuPLB42udZAwMDHB8fz9nZ2VxYWChQtYHL0z7/+++/nJ6ezk888QR/9913PDAwwF1dXWw2mwWuPLB42uc9e/awQqHgvXv3cn9/Px89epQ1Gg1v3rxZ4MoDi9Fo5IqKCm5ra2Mi4vb29htu39fXxyqVig0GA1ssFm5ubmaZTMYHDhwQqOLgggDoBw8//DC/+OKLDmM6nY7Ly8tdbr927VouKChwGMvPz+d169b5rMZg4Wmv57LZbBweHs67d+/2RXlBw5s+22w2XrFiBX/00UdcUlKCADgPnva5qamJExMTeWJiQojygoanfS4tLeXHHnvMYezVV1/lrKwsn9UYbOYTAF9//XXW6XQOYy+88AI/8sgjviwtaOEnYIFNTEzQ6dOnKS8vz2E8Ly+Puru7Xe7z/fffO22fn5/vdnuY4U2v5xobG6PJyUm68847fVFiUPC2z9u2baO77rqLnnvuOV+XGBS86fPXX39NmZmZVFpaSjExMZSWlka1tbU0NTUlRMkByZs+Z2Vl0enTp+3TRfr6+shoNNKTTz7p83rFxN174U8//USTk5N+qipwYWltgV2+fJmmpqYoJibGYTwmJoaGh4dd7jM8POzR9jDDm17PVV5eTvHx8bRq1SpflBgUvOnzqVOnqKWlhcxmsxAlBgVv+tzX10fffvstrV+/noxGI/3+++9UWlpKNpuNqqqqhCg74HjT53Xr1tHff/9NWVlZxMxks9nopZdeovLyciFKFg1374U2m40uX75MGo3GT5UFJgRAPwkJCXH4NzM7jd3K9vAfb3v39ttv0759+6izs5OUSqWvygsa8+2z1WqlZ599lpqbmykqKkqo8oKGJ6/n6elpio6Opl27dpFUKiW9Xk9DQ0PU0NCAAHgTnvS5s7OTampqqLGxkTIyMujcuXNkMBhIo9FQZWWlEOWKhqv/F1fjcHMIgAKLiooiqVTq9Eny0qVLTp9sZsXGxnq0PczwptezduzYQbW1tXTs2DF64IEHfFlmwPO0z3/88QcNDAzQ6tWr7WPT09NERBQaGkpnzpyhpKQk3xYdgLx5PWs0GpLJZCSVSu1jKSkpNDw8TBMTEySXy31acyDyps+VlZVUVFREzz//PBER3X///XT9+nXauHEjVVRUkESC2VYLwd17YWhoKC1ZssRPVQUuvCoFJpfLSa/Xk8lkchg3mUy0fPlyl/tkZmY6bd/R0eF2e5jhTa+JiBoaGujNN9+kI0eOUHp6uq/LDHie9lmn09Evv/xCZrPZfnvqqacoNzeXzGYzabVaoUoPKN68nlesWEHnzp2zB2wiorNnz5JGo0H4c8ObPo+NjTmFPKlUSjxzoqXPahUbd++F6enpJJPJ/FRVAPPX2SdiNrvEQEtLC1ssFt68eTOHhYXxwMAAMzMXFRU5nG126tQplkqlXFdXx729vVxXV4dlYObJ017X19ezXC7nAwcO8MWLF+03q9Xqr6cQEDzt81w4C3h+PO3z4OAgL168mF955RU+c+YMHz58mKOjo3n79u3+egoBwdM+b926lcPDw3nfvn3c19fHHR0dnJSUxGvXrvXXUwgIVquVe3p6uKenh4mI33nnHe7p6bEvt1NeXs5FRUX27WeXgSkrK2OLxcItLS1YBuYWIAD6yc6dOzkhIYHlcjk/9NBDfOLECfvfVq5cySUlJQ7b79+/n5OTk1kmk7FOp+O2tjaBKw5cnvQ6ISGBicjptnXrVuELDzCevqb/HwLg/Hna5+7ubs7IyGCFQsGJiYlcU1PDNptN4KoDjyd9npyc5Orqak5KSmKlUslarZZffvllvnLlih8qDxzHjx93ebyd7W1JSQmvXLnSYZ/Ozk5etmwZy+Vyvvfee7mpqUn4woNECDO+nwYAAAAQE8wBBAAAABAZBEAAAAAAkUEABAAAABAZBEAAAAAAkUEABAAAABAZBEAAAAAAkUEABAAAABAZBEAAAAAAkUEABAAAABAZBEAAAAAAkUEABAAAABAZBEAAAAAAkUEABAAAABAZBEAAAAAAkUEABAAAABAZBEAAAAAAkUEABAAAABAZBEAAAAAAkUEABAAAABAZBEAAAAAAkUEABAAAABAZBEAAAAAAkUEABAAAABAZBEAAAAAAkUEABAAAABAZBEAAAAAAkUEABAAAABAZBEAAAAAAkUEABAAAABAZBEAAAAAAkUEABAAAABCZ/wG1jXstZBmE6gAAAABJRU5ErkJggg==' width=640.0/>\n",
       "            </div>\n",
       "        "
      ],
      "text/plain": [
       "Canvas(toolbar=Toolbar(toolitems=[('Home', 'Reset original view', 'home', 'home'), ('Back', 'Back to previous …"
      ]
     },
     "metadata": {},
     "output_type": "display_data"
    }
   ],
   "source": [
    "probs = clf2.predict_proba(x_v)\n",
    "precision_recall_roc(probs)"
   ]
  },
  {
   "cell_type": "markdown",
   "metadata": {},
   "source": [
    "#### Classification Report"
   ]
  },
  {
   "cell_type": "code",
   "execution_count": 116,
   "metadata": {},
   "outputs": [
    {
     "name": "stdout",
     "output_type": "stream",
     "text": [
      "              precision    recall  f1-score   support\n",
      "\n",
      "     class 0       0.89      0.85      0.87      1505\n",
      "     class 1       0.89      0.92      0.90      1994\n",
      "\n",
      "    accuracy                           0.89      3499\n",
      "   macro avg       0.89      0.88      0.89      3499\n",
      "weighted avg       0.89      0.89      0.89      3499\n",
      "\n"
     ]
    }
   ],
   "source": [
    "y_pred=clf2.predict(x_v)\n",
    "y_true = y_v\n",
    "print(classification_report(y_true, y_pred, target_names=['class 0', 'class 1']))"
   ]
  },
  {
   "cell_type": "markdown",
   "metadata": {},
   "source": [
    "#### Confusion Matrix"
   ]
  },
  {
   "cell_type": "code",
   "execution_count": 117,
   "metadata": {},
   "outputs": [
    {
     "data": {
      "application/vnd.jupyter.widget-view+json": {
       "model_id": "512c650b336e42bd84a7cf4e2351496f",
       "version_major": 2,
       "version_minor": 0
      },
      "text/html": [
       "\n",
       "            <div style=\"display: inline-block;\">\n",
       "                <div class=\"jupyter-widgets widget-label\" style=\"text-align: center;\">\n",
       "                    Figure\n",
       "                </div>\n",
       "                <img src='data:image/png;base64,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' width=640.0/>\n",
       "            </div>\n",
       "        "
      ],
      "text/plain": [
       "Canvas(toolbar=Toolbar(toolitems=[('Home', 'Reset original view', 'home', 'home'), ('Back', 'Back to previous …"
      ]
     },
     "metadata": {},
     "output_type": "display_data"
    }
   ],
   "source": [
    "conf_matrix = confusion_matrix(y_pred=y_pred,y_true=y_true)\n",
    "plt.subplots()\n",
    "sns.heatmap(conf_matrix,annot=True,linewidths=1.5,fmt=\".0f\")\n",
    "plt.xlabel(\"Prediction\")\n",
    "plt.ylabel(\"Actual\")\n",
    "plt.show()"
   ]
  },
  {
   "cell_type": "markdown",
   "metadata": {},
   "source": [
    "### 5. Fem una predicció pel dataset test"
   ]
  },
  {
   "cell_type": "code",
   "execution_count": 118,
   "metadata": {},
   "outputs": [
    {
     "name": "stdout",
     "output_type": "stream",
     "text": [
      "Temps: 18.59577226638794\n",
      "[1 0 0 ... 0 1 1]\n"
     ]
    }
   ],
   "source": [
    "predictions = clf2.predict(X_test)\n",
    "print(\"Temps: \" + str(fi-inici))\n",
    "print(predictions)"
   ]
  },
  {
   "cell_type": "code",
   "execution_count": 119,
   "metadata": {},
   "outputs": [
    {
     "data": {
      "application/vnd.jupyter.widget-view+json": {
       "model_id": "8f4edc7ceaaa48e3baea6af1a141b46d",
       "version_major": 2,
       "version_minor": 0
      },
      "text/html": [
       "\n",
       "            <div style=\"display: inline-block;\">\n",
       "                <div class=\"jupyter-widgets widget-label\" style=\"text-align: center;\">\n",
       "                    Figure\n",
       "                </div>\n",
       "                <img src='data:image/png;base64,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' width=640.0/>\n",
       "            </div>\n",
       "        "
      ],
      "text/plain": [
       "Canvas(toolbar=Toolbar(toolitems=[('Home', 'Reset original view', 'home', 'home'), ('Back', 'Back to previous …"
      ]
     },
     "metadata": {},
     "output_type": "display_data"
    }
   ],
   "source": [
    "plt.figure()\n",
    "sns.countplot(predictions)\n",
    "plt.show()"
   ]
  },
  {
   "cell_type": "code",
   "execution_count": null,
   "metadata": {},
   "outputs": [],
   "source": []
  }
 ],
 "metadata": {
  "kernelspec": {
   "display_name": "Python 3",
   "language": "python",
   "name": "python3"
  },
  "language_info": {
   "codemirror_mode": {
    "name": "ipython",
    "version": 3
   },
   "file_extension": ".py",
   "mimetype": "text/x-python",
   "name": "python",
   "nbconvert_exporter": "python",
   "pygments_lexer": "ipython3",
   "version": "3.7.3"
  }
 },
 "nbformat": 4,
 "nbformat_minor": 2
}
